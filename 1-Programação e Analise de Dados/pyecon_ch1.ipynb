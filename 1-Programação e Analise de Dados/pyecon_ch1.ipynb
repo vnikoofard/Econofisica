{
 "cells": [
  {
   "cell_type": "markdown",
   "metadata": {},
   "source": [
    "# Chapter 1\n",
    "# Essential concepts\n",
    "_Version: February 14, 2022, see_ [PyEcon.org](https://pyecon.org).\n",
    "\n",
    "Introducing Python and the fundamentals of general programming with this dynamic and versatile language:\n",
    "- Getting started\n",
    "- Procedural programming\n",
    "- Object-orientation"
   ]
  },
  {
   "cell_type": "markdown",
   "metadata": {},
   "source": [
    "## Section 1.1\n",
    "## Getting started"
   ]
  },
  {
   "cell_type": "markdown",
   "metadata": {},
   "source": [
    "### Indentation example"
   ]
  },
  {
   "cell_type": "code",
   "execution_count": null,
   "metadata": {},
   "outputs": [],
   "source": [
    "password = input(\"I am your bank. Password please: \")\n",
    "if password == \"sparkasse\":\n",
    "    print(\"You successfully logged in!\")\n",
    "else:\n",
    "    print(\"Fail. Will call the police!\")"
   ]
  },
  {
   "cell_type": "markdown",
   "metadata": {},
   "source": [
    "## Section 1.2\n",
    "## Procedural programming"
   ]
  },
  {
   "cell_type": "markdown",
   "metadata": {},
   "source": [
    "### Hello there"
   ]
  },
  {
   "cell_type": "code",
   "execution_count": null,
   "metadata": {},
   "outputs": [],
   "source": [
    "print(\"Hello there!\")"
   ]
  },
  {
   "cell_type": "markdown",
   "metadata": {},
   "source": [
    "### Hello you"
   ]
  },
  {
   "cell_type": "code",
   "execution_count": null,
   "metadata": {},
   "outputs": [],
   "source": [
    "name = input(\"Please enter your name: \")\n",
    "print(\"Hello \" + name + \"!\")"
   ]
  },
  {
   "cell_type": "markdown",
   "metadata": {},
   "source": [
    "### Weekday of birth"
   ]
  },
  {
   "cell_type": "code",
   "execution_count": null,
   "metadata": {},
   "outputs": [],
   "source": [
    "from datetime import datetime\n",
    "answer = input(\"Your birthday (DD-MM-YYYY): \")\n",
    "birthday = datetime.strptime(answer, \"%d-%m-%Y\")\n",
    "print(\"Your birthday was on a \" + birthday.strftime(\"%A\") + \"!\")"
   ]
  },
  {
   "cell_type": "markdown",
   "metadata": {},
   "source": [
    "### Age in days"
   ]
  },
  {
   "cell_type": "code",
   "execution_count": null,
   "metadata": {},
   "outputs": [],
   "source": [
    "someday = datetime.strptime(\"14-03-2018\", \"%d-%m-%Y\")\n",
    "print(\"You are \" + str((someday - birthday).days) + \" days old!\")"
   ]
  },
  {
   "cell_type": "markdown",
   "metadata": {},
   "source": [
    "### Help system"
   ]
  },
  {
   "cell_type": "code",
   "execution_count": null,
   "metadata": {},
   "outputs": [],
   "source": [
    "help(len)"
   ]
  },
  {
   "cell_type": "markdown",
   "metadata": {},
   "source": [
    "### Assigning variables with literals"
   ]
  },
  {
   "cell_type": "code",
   "execution_count": null,
   "metadata": {},
   "outputs": [],
   "source": [
    "myint = 7\n",
    "myfloat = 4.0\n",
    "myboat = \"nice\"\n",
    "mybool = True\n",
    "myfloat = myboat"
   ]
  },
  {
   "cell_type": "markdown",
   "metadata": {},
   "source": [
    "### Pocket calculator"
   ]
  },
  {
   "cell_type": "code",
   "execution_count": null,
   "metadata": {},
   "outputs": [],
   "source": [
    "10 + 5\n",
    "100 - 20\n",
    "8 / 2\n",
    "4 * (10 + 20)\n",
    "2**3"
   ]
  },
  {
   "cell_type": "markdown",
   "metadata": {},
   "source": [
    "### Logical table"
   ]
  },
  {
   "cell_type": "code",
   "execution_count": 1,
   "metadata": {},
   "outputs": [
    {
     "name": "stdout",
     "output_type": "stream",
     "text": [
      "a   b   a and b   a or b   not a\n",
      "--------------------------------\n",
      "0   0      0        0       1\n",
      "0   1      0        1       1\n",
      "1   0      0        1       0\n",
      "1   1      1        1       0\n"
     ]
    }
   ],
   "source": [
    "# Create table head\n",
    "print(\"a   b   a and b   a or b   not a\\n\"\n",
    "      \"--------------------------------\")\n",
    "\n",
    "# Loop through the rows\n",
    "for a in [False, True]:\n",
    "    for b in [False, True]:\n",
    "        print(f\"{a:1} {b:3} {a and b:6} {a or b:8} {not a:7}\")"
   ]
  },
  {
   "cell_type": "markdown",
   "metadata": {},
   "source": [
    "### Provide some comments"
   ]
  },
  {
   "cell_type": "code",
   "execution_count": null,
   "metadata": {},
   "outputs": [],
   "source": [
    "# Set variable to something - or nothing?\n",
    "something = None\n",
    "\n",
    "\"\"\"\n",
    "I am a docstring!\n",
    "A multiline string comment hybrid.\n",
    "I will be useful for describing classes and methods.\n",
    "\"\"\""
   ]
  },
  {
   "cell_type": "markdown",
   "metadata": {},
   "source": [
    "### Listing tech companies"
   ]
  },
  {
   "cell_type": "code",
   "execution_count": null,
   "metadata": {},
   "outputs": [],
   "source": [
    "stocks = [\"Google\", \"Amazon\", \"Facebook\", \"Apple\"]\n",
    "stocks[1]\n",
    "stocks.append(\"Twitter\")\n",
    "stocks.insert(2, \"Microsoft\")\n",
    "stocks.sort()"
   ]
  },
  {
   "cell_type": "markdown",
   "metadata": {},
   "source": [
    "### Selecting elements in sequences"
   ]
  },
  {
   "cell_type": "code",
   "execution_count": null,
   "metadata": {},
   "outputs": [],
   "source": [
    "lottery = (1, 8, 9, 12, 24, 28)\n",
    "len(lottery)\n",
    "lottery[1:3]\n",
    "lottery[:4]\n",
    "lottery[-1]\n",
    "lottery[-2:]"
   ]
  },
  {
   "cell_type": "markdown",
   "metadata": {},
   "source": [
    "### Internet slang dictionary"
   ]
  },
  {
   "cell_type": "code",
   "execution_count": null,
   "metadata": {},
   "outputs": [],
   "source": [
    "slang = {\"imho\": \"in my humble opinion\",\n",
    "         \"lol\": \"laughing out loud\",\n",
    "         \"tl;dr\": \"too long; didn't read\"}\n",
    "slang[\"lol\"]\n",
    "slang[\"gl&hl\"] = \"good luck & have fun\"\n",
    "slang.keys()\n",
    "slang.values()"
   ]
  },
  {
   "cell_type": "markdown",
   "metadata": {},
   "source": [
    "### Set operations"
   ]
  },
  {
   "cell_type": "code",
   "execution_count": null,
   "metadata": {},
   "outputs": [],
   "source": [
    "x = {\"o\", \"n\", \"y\", \"t\"}\n",
    "y = {\"p\", \"h\", \"o\", \"n\"}\n",
    "x & y\n",
    "x | y\n",
    "x - y"
   ]
  },
  {
   "cell_type": "markdown",
   "metadata": {},
   "source": [
    "### Comparing examples"
   ]
  },
  {
   "cell_type": "code",
   "execution_count": null,
   "metadata": {},
   "outputs": [],
   "source": [
    "x, y = 5, 8\n",
    "print(\"x < y is\", x < y)\n",
    "print(\"x > y is\", x > y)\n",
    "print(\"x == y is\", x == y)\n",
    "print(\"x != y is\", x != y)\n",
    "print(\"This is\", \"Name\" == \"Name\", \"and not\", \"Name\" == \"name\")"
   ]
  },
  {
   "cell_type": "markdown",
   "metadata": {},
   "source": [
    "### Chaining comparison examples"
   ]
  },
  {
   "cell_type": "code",
   "execution_count": null,
   "metadata": {},
   "outputs": [],
   "source": [
    "x = 5\n",
    "\n",
    "5 >= x > 4\n",
    "12 < x < 20\n",
    "2 < x < 10\n",
    "2 < x and x < 10  # unchained expression"
   ]
  },
  {
   "cell_type": "markdown",
   "metadata": {},
   "source": [
    "### Logical operators examples"
   ]
  },
  {
   "cell_type": "code",
   "execution_count": null,
   "metadata": {},
   "outputs": [],
   "source": [
    "x, y = 5, 8\n",
    "\n",
    "(x == 5) and (y == 9)\n",
    "(x == 5) or (y == 8)\n",
    "not(x == 4) or (y == 9)"
   ]
  },
  {
   "cell_type": "markdown",
   "metadata": {},
   "source": [
    "### Exclusive or"
   ]
  },
  {
   "cell_type": "code",
   "execution_count": null,
   "metadata": {},
   "outputs": [],
   "source": [
    "x, y = 5, 8\n",
    "\n",
    "((x == 5) and not (y == 8)) or (not (x == 5) and (y == 8))\n",
    "x = 4\n",
    "((x == 5) and not (y == 8)) or (not (x == 5) and (y == 8))\n",
    "(x == 5) != (y == 8)"
   ]
  },
  {
   "cell_type": "markdown",
   "metadata": {},
   "source": [
    "### Binary to integer"
   ]
  },
  {
   "cell_type": "code",
   "execution_count": null,
   "metadata": {},
   "outputs": [],
   "source": [
    "def bintoint(binary):\n",
    "    binary = binary[::-1]\n",
    "    num = 0\n",
    "    for i in range(len(binary)):\n",
    "        num += int(binary[i]) * 2**i\n",
    "    return num\n",
    "\n",
    "bintoint(\"1101001\")\n",
    "\n",
    "int(\"1101001\", 2)  # compare with built-in function"
   ]
  },
  {
   "cell_type": "markdown",
   "metadata": {},
   "source": [
    "### Integers to binary"
   ]
  },
  {
   "cell_type": "code",
   "execution_count": null,
   "metadata": {},
   "outputs": [],
   "source": [
    "def inttobin(num):\n",
    "    binary = \"\"\n",
    "    if num != 0:\n",
    "        while num >= 1:\n",
    "            if num % 2 == 0:\n",
    "                binary += \"0\"\n",
    "                num = num / 2\n",
    "            else:\n",
    "                binary += \"1\"\n",
    "                num = (num - 1) / 2\n",
    "    else:\n",
    "        binary = \"0\"\n",
    "    return binary[::-1]\n",
    "inttobin(105)\n",
    "bin(105)[2:]  # compare with built-in function"
   ]
  },
  {
   "cell_type": "markdown",
   "metadata": {},
   "source": [
    "### Bitwise operators"
   ]
  },
  {
   "cell_type": "code",
   "execution_count": null,
   "metadata": {},
   "outputs": [],
   "source": [
    "a, b = 5, 7\n",
    "c = a & b  # bitwise and\n",
    "print(c)"
   ]
  },
  {
   "cell_type": "markdown",
   "metadata": {},
   "source": [
    "### Bitwise operators"
   ]
  },
  {
   "cell_type": "code",
   "execution_count": null,
   "metadata": {},
   "outputs": [],
   "source": [
    "a, b = 5, 7\n",
    "c = a | b  # bitwise or\n",
    "print(c)\n",
    "a = 13\n",
    "b = a << 2  # bitwise shift\n",
    "a, b = 35, 37\n",
    "c = a ^ b  # bitwise exclusive or"
   ]
  },
  {
   "cell_type": "markdown",
   "metadata": {},
   "source": [
    "### Computer data sizes"
   ]
  },
  {
   "cell_type": "code",
   "execution_count": null,
   "metadata": {},
   "outputs": [],
   "source": [
    "bytes = 100000000 / 8  # e.g. DSL 100000\n",
    "if bytes >= 1e9:\n",
    "    print(f\"{bytes/1e9:6.2f} GByte\")\n",
    "elif bytes >= 1e6:\n",
    "    print(f\"{bytes/1e6:6.2f} MByte\")\n",
    "elif bytes >= 1e3:\n",
    "    print(f\"{bytes/1e3:6.2f} KByte\")\n",
    "else:\n",
    "    print(f\"{bytes:6.2f} Byte\")"
   ]
  },
  {
   "cell_type": "markdown",
   "metadata": {},
   "source": [
    "### Nestings"
   ]
  },
  {
   "cell_type": "code",
   "execution_count": null,
   "metadata": {},
   "outputs": [],
   "source": [
    "if a > 1:\n",
    "    if b > 2:\n",
    "        pass  # a special keyword for empty blocks"
   ]
  },
  {
   "cell_type": "markdown",
   "metadata": {},
   "source": [
    "### Total sum"
   ]
  },
  {
   "cell_type": "code",
   "execution_count": null,
   "metadata": {},
   "outputs": [],
   "source": [
    "numbers = [7, 3, 4, 5, 6, 15]\n",
    "y = 0\n",
    "for i in numbers:\n",
    "    y += i\n",
    "print(f\"The sum of 'numbers' is {y}.\")"
   ]
  },
  {
   "cell_type": "markdown",
   "metadata": {},
   "source": [
    "### Powers of 2"
   ]
  },
  {
   "cell_type": "code",
   "execution_count": null,
   "metadata": {},
   "outputs": [],
   "source": [
    "powers = [2 ** i for i in range(11)]\n",
    "teacher = [\"***\", \"**\", \"*\"]\n",
    "grades = {star: len(teacher) - len(star) + 1 for star in teacher}"
   ]
  },
  {
   "cell_type": "markdown",
   "metadata": {},
   "source": [
    "### Continue the loop"
   ]
  },
  {
   "cell_type": "code",
   "execution_count": null,
   "metadata": {},
   "outputs": [],
   "source": [
    "for x in [\"a\", \"b\", \"c\"]:\n",
    "    a = x.upper()\n",
    "    continue\n",
    "    print(x)\n",
    "print(a)"
   ]
  },
  {
   "cell_type": "markdown",
   "metadata": {},
   "source": [
    "### Breaking the habit"
   ]
  },
  {
   "cell_type": "code",
   "execution_count": null,
   "metadata": {},
   "outputs": [],
   "source": [
    "y = 0\n",
    "for i in [7, 3, 4, \"x\", 6, 15]:\n",
    "    if not isinstance(i, int):\n",
    "        break\n",
    "    y += i\n",
    "print(f\"The total sum is {y}.\")"
   ]
  },
  {
   "cell_type": "markdown",
   "metadata": {},
   "source": [
    "### Favorite lottery number"
   ]
  },
  {
   "cell_type": "code",
   "execution_count": null,
   "metadata": {},
   "outputs": [],
   "source": [
    "import random\n",
    "n = 0\n",
    "favorite = 7\n",
    "while n < 100:\n",
    "    n += 1\n",
    "    draw = random.randint(1, 49)  # e.g. German lottery\n",
    "    if draw == favorite:\n",
    "        print(\"Got my number! :)\")\n",
    "        break\n",
    "else:\n",
    "    print(\"My favorite did not show up! :(\")\n",
    "print(f\"I tried {n} times!\")"
   ]
  },
  {
   "cell_type": "markdown",
   "metadata": {},
   "source": [
    "### Drawing lottery numbers"
   ]
  },
  {
   "cell_type": "code",
   "execution_count": null,
   "metadata": {},
   "outputs": [],
   "source": [
    "def draw_sample(n, first=1, last=49):\n",
    "    numbers = list(range(first, last + 1))\n",
    "    sample = []\n",
    "    for i in range(n):\n",
    "        ind = random.randint(0, len(numbers) - 1)\n",
    "        sample.append(numbers.pop(ind))\n",
    "    sample.sort()\n",
    "    return sample\n",
    "\n",
    "draw_sample(6)\n",
    "draw_sample(6, 80, 100)\n",
    "draw_sample(3, first=5)"
   ]
  },
  {
   "cell_type": "markdown",
   "metadata": {},
   "source": [
    "### Prime numbers"
   ]
  },
  {
   "cell_type": "code",
   "execution_count": null,
   "metadata": {},
   "outputs": [],
   "source": [
    "def primes(n):\n",
    "    numbers = [2]\n",
    "\n",
    "    def is_prime(num):\n",
    "        for i in numbers:\n",
    "            if num % i == 0:\n",
    "                return False\n",
    "        return True\n",
    "    if n == 2:\n",
    "        return numbers\n",
    "    for i in range(3, n + 1):\n",
    "        if is_prime(i):\n",
    "            numbers.append(i)\n",
    "    return numbers\n",
    "primes(50)"
   ]
  },
  {
   "cell_type": "markdown",
   "metadata": {},
   "source": [
    "## Section 1.3\n",
    "## Object-orientation"
   ]
  },
  {
   "cell_type": "markdown",
   "metadata": {},
   "source": [
    "### Equal but not identical"
   ]
  },
  {
   "cell_type": "code",
   "execution_count": null,
   "metadata": {},
   "outputs": [],
   "source": [
    "a = [\"Star\", \"Trek\"]\n",
    "b = [\"Star\", \"Trek\"]\n",
    "c = a\n",
    "a == b\n",
    "a == c\n",
    "a is b\n",
    "a is c"
   ]
  },
  {
   "cell_type": "markdown",
   "metadata": {},
   "source": [
    "### Collecting grades"
   ]
  },
  {
   "cell_type": "code",
   "execution_count": null,
   "metadata": {},
   "outputs": [],
   "source": [
    "grades = [1.7, 1.3, 2.7, 2.0]\n",
    "result = grades.append(1.0)\n",
    "result\n",
    "grades\n",
    "finals = grades\n",
    "finals.remove(2.7)\n",
    "finals\n",
    "grades"
   ]
  },
  {
   "cell_type": "markdown",
   "metadata": {},
   "source": [
    "### Side effects"
   ]
  },
  {
   "cell_type": "code",
   "execution_count": null,
   "metadata": {},
   "outputs": [],
   "source": [
    "def last_element(x):\n",
    "    return x.pop(-1)\n",
    "\n",
    "a = stocks\n",
    "last_element(a)\n",
    "a"
   ]
  },
  {
   "cell_type": "markdown",
   "metadata": {},
   "source": [
    "### Copying"
   ]
  },
  {
   "cell_type": "code",
   "execution_count": null,
   "metadata": {},
   "outputs": [],
   "source": [
    "def last_element(x):\n",
    "    y = x.copy()\n",
    "    return y.pop(-1)\n",
    "\n",
    "a = stocks\n",
    "last_element(a)\n",
    "a"
   ]
  },
  {
   "cell_type": "markdown",
   "metadata": {},
   "source": [
    "### Cloning fast food"
   ]
  },
  {
   "cell_type": "code",
   "execution_count": null,
   "metadata": {},
   "outputs": [],
   "source": [
    "fastfood = [[\"burgers\", \"hot dogs\"], [\"pizza\", \"pasta\"]]\n",
    "italian = fastfood.copy()\n",
    "italian.pop(0)\n",
    "american = list(fastfood)\n",
    "american.pop(1)\n",
    "american[0] = american[0].copy()\n",
    "fastfood[0][1] = \"chicken wings\"\n",
    "fastfood[1][0] = \"risotto\"\n",
    "italian\n",
    "american"
   ]
  },
  {
   "cell_type": "markdown",
   "metadata": {},
   "source": [
    "### Rectangle class"
   ]
  },
  {
   "cell_type": "code",
   "execution_count": null,
   "metadata": {},
   "outputs": [],
   "source": [
    "class Rectangle:\n",
    "    width = 0\n",
    "    height = 0\n",
    "\n",
    "    def area(self):\n",
    "        return self.width * self.height\n",
    "\n",
    "myrectangle = Rectangle()\n",
    "myrectangle.width = 10\n",
    "myrectangle.height = 20\n",
    "myrectangle.area()"
   ]
  },
  {
   "cell_type": "markdown",
   "metadata": {},
   "source": [
    "### Rectangle class with constructor"
   ]
  },
  {
   "cell_type": "code",
   "execution_count": null,
   "metadata": {},
   "outputs": [],
   "source": [
    "class Rectangle:\n",
    "    width = 0\n",
    "    height = 0\n",
    "\n",
    "    def __init__(self, width, height):\n",
    "        self.width = width\n",
    "        self.height = height\n",
    "\n",
    "    def area(self):\n",
    "        return self.width * self.height\n",
    "myrectangle = Rectangle(15, 30)\n",
    "myrectangle.area()"
   ]
  },
  {
   "cell_type": "markdown",
   "metadata": {},
   "source": [
    "### Square inherits Rectangle"
   ]
  },
  {
   "cell_type": "code",
   "execution_count": null,
   "metadata": {},
   "outputs": [],
   "source": [
    "class Square(Rectangle):\n",
    "    def __init__(self, length):\n",
    "        super().__init__(length, length)\n",
    "\n",
    "    def diagonal(self):\n",
    "        return (self.width**2 + self.height**2)**0.5\n",
    "mysquare = Square(15)\n",
    "print(f\"Area: {mysquare.area()}\")\n",
    "print(f\"Diagonal length: {mysquare.diagonal():7.4f}\")"
   ]
  },
  {
   "cell_type": "markdown",
   "metadata": {},
   "source": [
    "### Garbage collection in action"
   ]
  },
  {
   "cell_type": "code",
   "execution_count": null,
   "metadata": {},
   "outputs": [],
   "source": [
    "class Dog:\n",
    "    def __del__(self):\n",
    "        print(\"Woof! The dogcatcher got me! Entering the void.. :(\")\n",
    "# My old dog on a leash\n",
    "mydog = Dog()\n",
    "# A new dog is born\n",
    "newdog = Dog()\n",
    "# Using my leash for the new dog\n",
    "mydog = newdog"
   ]
  },
  {
   "cell_type": "markdown",
   "metadata": {},
   "source": [
    "### Exception"
   ]
  },
  {
   "cell_type": "code",
   "execution_count": null,
   "metadata": {},
   "outputs": [],
   "source": [
    "a = 0 / 0"
   ]
  },
  {
   "cell_type": "markdown",
   "metadata": {},
   "source": [
    "### Frequent exception"
   ]
  },
  {
   "cell_type": "code",
   "execution_count": null,
   "metadata": {},
   "outputs": [],
   "source": [
    "0 / 0\n",
    "3 + a\n",
    "3 + \"2\""
   ]
  },
  {
   "cell_type": "markdown",
   "metadata": {},
   "source": [
    "### Try and except"
   ]
  },
  {
   "cell_type": "code",
   "execution_count": null,
   "metadata": {},
   "outputs": [],
   "source": [
    "try:\n",
    "    print(abc)\n",
    "except:\n",
    "    print(\"An exception occurred\")"
   ]
  },
  {
   "cell_type": "markdown",
   "metadata": {},
   "source": [
    "### Multiple exception blocks"
   ]
  },
  {
   "cell_type": "code",
   "execution_count": null,
   "metadata": {},
   "outputs": [],
   "source": [
    "try:\n",
    "    print(abc)\n",
    "except NameError:\n",
    "    print(\"Variable abc is not defined\")\n",
    "except:\n",
    "    print(\"Something else went wrong\")\n",
    "try:\n",
    "    0 / 0\n",
    "except NameError:\n",
    "    print(\"Variable abc is not defined\")\n",
    "except:\n",
    "    print(\"Something else went wrong\")"
   ]
  },
  {
   "cell_type": "markdown",
   "metadata": {},
   "source": [
    "### Else exception"
   ]
  },
  {
   "cell_type": "code",
   "execution_count": null,
   "metadata": {},
   "outputs": [],
   "source": [
    "try:\n",
    "    print(\"Hello World\")\n",
    "except:\n",
    "    print(\"Something went wrong\")\n",
    "else:\n",
    "    print(\"Everything is okay\")"
   ]
  },
  {
   "cell_type": "markdown",
   "metadata": {},
   "source": [
    "### Finally exception"
   ]
  },
  {
   "cell_type": "code",
   "execution_count": null,
   "metadata": {},
   "outputs": [],
   "source": [
    "try:\n",
    "    print(abc)\n",
    "except:\n",
    "    print(\"Something went wrong\")\n",
    "finally:\n",
    "    print(\"This will always be displayed\")\n",
    "try:\n",
    "    print(\"Hello World\")\n",
    "except:\n",
    "    print(\"Something went wrong\")\n",
    "finally:\n",
    "    print(\"This will always be displayed\")"
   ]
  },
  {
   "cell_type": "markdown",
   "metadata": {},
   "source": [
    "### Raise exception"
   ]
  },
  {
   "cell_type": "code",
   "execution_count": null,
   "metadata": {},
   "outputs": [],
   "source": [
    "x = -3\n",
    "if x < 0:\n",
    "    raise Exception(\"Sorry, 'x' is lower than 0.\")"
   ]
  },
  {
   "cell_type": "markdown",
   "metadata": {},
   "source": [
    "### LBYL"
   ]
  },
  {
   "cell_type": "code",
   "execution_count": null,
   "metadata": {},
   "outputs": [],
   "source": [
    "if x != 0:\n",
    "    print(10 / x)"
   ]
  },
  {
   "cell_type": "markdown",
   "metadata": {},
   "source": [
    "### EAFP"
   ]
  },
  {
   "cell_type": "code",
   "execution_count": null,
   "metadata": {},
   "outputs": [],
   "source": [
    "try:\n",
    "    print(10 / x)\n",
    "except ZeroDivisionError:\n",
    "    pass"
   ]
  },
  {
   "cell_type": "markdown",
   "metadata": {},
   "source": [
    "### EAFP"
   ]
  },
  {
   "cell_type": "code",
   "execution_count": null,
   "metadata": {},
   "outputs": [],
   "source": [
    "try:\n",
    "    print(10 / x)\n",
    "except ZeroDivisionError:\n",
    "    print(\"Zero division\")\n",
    "except NameError:\n",
    "    print(\"Variable 'x' is not defined\")"
   ]
  },
  {
   "cell_type": "markdown",
   "metadata": {},
   "source": [
    "### User-defined exception"
   ]
  },
  {
   "cell_type": "code",
   "execution_count": null,
   "metadata": {},
   "outputs": [],
   "source": [
    "class ValueTooLargeError(Exception):\n",
    "    \"\"\"Raised when the input value is too large\"\"\"\n",
    "    pass\n",
    "x = 3\n",
    "try:\n",
    "    if x > 2:\n",
    "        raise ValueTooLargeError\n",
    "except ValueTooLargeError:\n",
    "    print(\"The number is too large.\")"
   ]
  },
  {
   "cell_type": "markdown",
   "metadata": {},
   "source": [
    "### Namespaces"
   ]
  },
  {
   "cell_type": "code",
   "execution_count": null,
   "metadata": {},
   "outputs": [],
   "source": [
    "def multiplier(x):\n",
    "    x = 4 * x\n",
    "    return x\n",
    "x = \"OH\"\n",
    "multiplier(\"AH\")\n",
    "multiplier(x)\n",
    "x"
   ]
  },
  {
   "cell_type": "markdown",
   "metadata": {},
   "source": [
    "### Closures"
   ]
  },
  {
   "cell_type": "code",
   "execution_count": null,
   "metadata": {},
   "outputs": [],
   "source": [
    "def gen_multiplier(a):\n",
    "    def fun(x):\n",
    "        return a * x\n",
    "    return fun\n",
    "\n",
    "multi1 = gen_multiplier(4)\n",
    "multi2 = gen_multiplier(5)\n",
    "multi1\n",
    "multi1(\"EH\")\n",
    "multi2(\"EH\")"
   ]
  },
  {
   "cell_type": "markdown",
   "metadata": {},
   "source": [
    "### Import statements"
   ]
  },
  {
   "cell_type": "code",
   "execution_count": null,
   "metadata": {},
   "outputs": [],
   "source": [
    "import datetime\n",
    "import datetime as dt\n",
    "from datetime import date, timedelta\n",
    "from datetime import *\n",
    "\n",
    "dt.date.today()\n",
    "dt.timedelta.days\n",
    "\n",
    "date.today()\n",
    "timedelta.days\n",
    "\n",
    "datetime.now()"
   ]
  },
  {
   "cell_type": "markdown",
   "metadata": {},
   "source": [
    "### Usage of build-in modules"
   ]
  },
  {
   "cell_type": "code",
   "execution_count": null,
   "metadata": {},
   "outputs": [],
   "source": [
    "import math\n",
    "from random import randint\n",
    "\n",
    "math.pi\n",
    "math.factorial(5)\n",
    "randint(10, 20)"
   ]
  },
  {
   "cell_type": "markdown",
   "metadata": {},
   "source": [
    "### Usage of own modules"
   ]
  },
  {
   "cell_type": "code",
   "execution_count": null,
   "metadata": {},
   "outputs": [],
   "source": [
    "import mymodule\n",
    "mymodule.s\n",
    "mymodule.l\n",
    "mymodule.add_one(5)"
   ]
  },
  {
   "cell_type": "markdown",
   "metadata": {},
   "source": [
    "### Usage of own package"
   ]
  },
  {
   "cell_type": "code",
   "execution_count": null,
   "metadata": {},
   "outputs": [],
   "source": [
    "import mypackage.mymodule\n",
    "import mypackage.somemodule\n",
    "mypackage.mymodule.add_one(4)"
   ]
  },
  {
   "cell_type": "markdown",
   "metadata": {},
   "source": [
    "### The Zen of Python"
   ]
  },
  {
   "cell_type": "code",
   "execution_count": null,
   "metadata": {},
   "outputs": [],
   "source": [
    "import this"
   ]
  }
 ],
 "metadata": {
  "kernelspec": {
   "display_name": "Python 3",
   "language": "python",
   "name": "python3"
  },
  "language_info": {
   "codemirror_mode": {
    "name": "ipython",
    "version": 3
   },
   "file_extension": ".py",
   "mimetype": "text/x-python",
   "name": "python",
   "nbconvert_exporter": "python",
   "pygments_lexer": "ipython3",
   "version": "3.11.9"
  }
 },
 "nbformat": 4,
 "nbformat_minor": 2
}
