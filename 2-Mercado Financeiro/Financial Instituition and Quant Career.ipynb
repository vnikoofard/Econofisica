{
 "cells": [
  {
   "cell_type": "markdown",
   "metadata": {},
   "source": [
    "## Instituições Financeiras"
   ]
  },
  {
   "cell_type": "markdown",
   "metadata": {},
   "source": [
    "### Sell-Side: Dealers e Market Makers\n",
    "\n",
    "**1. Função das instituições sell-side:**\n",
    "As instituições **sell-side** (lado de venda) têm um papel crucial no funcionamento dos mercados financeiros. Elas ajudam a garantir liquidez, ou seja, tornam mais fácil para os investidores comprar e vender ativos, como ações, opções e outros instrumentos financeiros. As principais funções dessas instituições incluem: \n",
    "\n",
    "- **Fornecimento de liquidez:** Isso acontece quando os dealers ou market makers estão prontos para comprar ou vender ativos a qualquer momento, ajudando a equilibrar a oferta e a demanda no mercado. Quando alguém deseja vender um ativo e não há compradores imediatos, os market makers podem entrar como compradores, e vice-versa.\n",
    "\n",
    "**2. O papel dos Market Makers:**\n",
    "Os **market makers** são uma categoria específica de instituições que facilitam essa liquidez. Eles:\n",
    "- **Assumem riscos:** Quando compram um ativo, eles estão temporariamente assumindo o risco desse ativo até conseguir vendê-lo para outro investidor. \n",
    "- **Buscam equilíbrio no mercado:** Após entrar em uma posição, eles rapidamente tentam se desfazer desse risco, vendendo o ativo a outros investidores para que o mercado retorne a um estado de equilíbrio.\n",
    "- **Compensação pelo risco:** Os market makers são pagos através do **bid-offer spread** (a diferença entre o preço de compra e o preço de venda). Ao comprar a um preço mais baixo e vender a um preço mais alto, eles garantem o lucro.\n",
    "\n",
    "**3. Estruturas de negociação:**\n",
    "Além de atuar como market makers, as instituições sell-side também atuam como **dealers**:\n",
    "- **Estruturação de produtos:** Os dealers criam estruturas financeiras personalizadas que ajudam os clientes a gerenciar riscos ou a implementar uma visão econômica. Essas estruturas podem incluir **derivativos** (instrumentos financeiros cujo valor deriva de outro ativo) e **opções exóticas** (contratos com características complexas).\n",
    "- **Hedging:** Um dos principais objetivos dos dealers ao criar essas estruturas é ajudar os clientes a reduzir riscos. Para isso, eles podem buscar outro cliente que esteja disposto a assumir a posição oposta, o que pode eliminar completamente o risco. \n",
    "\n",
    "**4. Gestão de riscos por dealers:**\n",
    "- Dealers podem optar por **internalizar** ou manter o risco para si. Isso significa que, em vez de transferir completamente o risco para outro cliente, eles podem escolher cobrir certos aspectos do risco e manter outros em seus balanços, dependendo de sua estratégia ou tolerância ao risco.\n"
   ]
  },
  {
   "cell_type": "markdown",
   "metadata": {},
   "source": [
    "### Mercado Brasileiro\n",
    "\n",
    "Exemplos de instituições no mercado brasileiro que atuam como bancos de investimento e muitas vezes desempenham funções de sell-side, como dealers e market makers, incluem:\n",
    "\n",
    "1. **Itaú BBA (Itaú Unibanco)** - Um dos principais bancos de investimento do Brasil, conhecido por sua atuação em diversos segmentos, incluindo corretagem e assessoria em fusões e aquisições.\n",
    "\n",
    "2. **Bradesco BBI (Banco de Investimento Bradesco)** - Parte do Bradesco, oferece uma ampla gama de serviços financeiros, como operação em mercados de capitais e gestão de recursos.\n",
    "\n",
    "3. **Santander Brasil** - Além de ser um banco comercial, possui uma divisão de investimentos que oferece produtos e serviços para clientes institucionais e corporativos.\n",
    "\n",
    "4. **BTG Pactual** - Um dos bancos de investimento independentes mais importantes do Brasil, focado em varejo, gestão de ativos, e mercado de capitais.\n",
    "\n",
    "5. **XP Inc.** - Uma corretora que cresceu muito nos últimos anos e oferece uma variedade de produtos financeiros, atuando no mercado de investimentos.\n",
    "\n",
    "Essas instituições desempenham papéis importantes na intermediação de ativos e na estruturação de produtos financeiros no Brasil."
   ]
  },
  {
   "cell_type": "markdown",
   "metadata": {},
   "source": [
    "### Buy-Side: Gestores de Ativos e Hedge Funds\n",
    "\n",
    "**1. Responsabilidade e Objetivo:**\n",
    "As instituições do **buy-side** (lado de compra), como os hedge funds e as gestoras de ativos, têm a função de administrar os recursos dos clientes. O principal objetivo dessas instituições é gerar **retornos fortes sobre os investimentos**. Isso envolve a escolha de estratégias que se alinhem com o perfil de risco e os objetivos financeiros dos clientes. \n",
    "\n",
    "**2. Tipos de Estratégias de Investimento:**\n",
    "Essas instituições podem implementar diversas estratégias, que incluem:\n",
    "\n",
    "- **Global Macro:** \n",
    "  - **Discrecionárias:** Baseadas na análise econômica e previsões do gestor da carteira sobre as condições do mercado.\n",
    "  - **Sistemáticas:** Baseadas em sinais quantitativos que se relacionam com variáveis macroeconômicas. Essa abordagem depende de dados e modelos para orientar as decisões.\n",
    "\n",
    "- **Relative Value:**\n",
    "  - Essas estratégias visam identificar discrepâncias nos preços de instrumentos financeiros relacionados, buscando lucrar com a expectativa de que esses preços converjam. Podem ser aplicadas dentro de uma mesma classe de ativos ou entre diferentes classes de ativos. \n",
    "\n",
    "- **Event Driven:**\n",
    "  - Estratégias que buscam lucrar com eventos corporativos, como fusões e aquisições. Os gestores apostam se essas transações ocorrerão e, assim, se beneficiarão de mudanças nas avaliações de mercado que surgem após o evento.\n",
    "\n",
    "- **Risk Premia:**\n",
    "  - Essas estratégias identificam riscos que são bem compensados e buscam capitalizá-los através de exposições consistentes. Exemplos de premias de risco incluem carry (carry trade), value, volatilidade, qualidade e momentum.\n",
    "\n",
    "- **Statistical Arbitrage:**\n",
    "  - Estratégias que utilizam modelos quantitativos para detectar anomalias entre ativos. Isso pode incluir o uso de modelos de fatores ou estratégias de **pairs trading**, onde se aposta na convergência de ações muito correlacionadas que se afastaram de seus valores históricos.\n",
    "\n",
    "**3. Diferenças Entre Hedge Funds e Gestores de Ativos:**\n",
    "Um dos principais diferenciais entre hedge funds e gestoras de ativos é a estrutura e os níveis de taxas:\n",
    "- **Hedge Funds:** Geralmente cobram taxas mais altas, incluindo taxas baseadas no desempenho dos fundos. A maioria dos hedge funds é classificada como **fundos de retorno absoluto**, já que seu desempenho é medido em termos absolutos, independentemente dos resultados do mercado.\n",
    "\n",
    "- **Gestores de Ativos:** Muitas vezes, esses gestores não cobram taxas de desempenho. Em vez disso, eles avaliam seu desempenho em comparação com índices de referência que refletem a exposição ao mercado. Além disso, os hedge funds geralmente têm mais liberdade na escolha de instrumentos e estruturas de negociação, exigindo menos transparência em suas operações.\n"
   ]
  },
  {
   "cell_type": "markdown",
   "metadata": {},
   "source": [
    "### Empresas de Tecnologia Financeira\n",
    "\n",
    "De forma geral, as empresas de tecnologia financeira aproveitam dados e tecnologia para criar produtos que podem ser comercializados para instituições do lado de compra e do lado de venda. A proliferação de dados disponíveis na última década levou a um grande aumento no número de empresas de FinTech. Muitas empresas de FinTech, em sua essência, resolvem problemas de big data, transformando dados não estruturados em um formato utilizável para seus clientes. Por exemplo, uma empresa de FinTech pode rastrear o tráfego em diferentes sites de empresas e criar um sinal resumido para gestores de investimento. Em outro contexto, as empresas de FinTech podem utilizar inovações tecnológicas e computação em nuvem para fornecer métodos mais rápidos e precisos de precificação de derivativos complexos. As instituições do lado de compra e do lado de venda, então, adquiririam os serviços dessas empresas e os incorporariam em seus processos, de forma direta ou indireta."
   ]
  },
  {
   "cell_type": "markdown",
   "metadata": {},
   "source": [
    "## Carreira Quant\n",
    "\n",
    "Os aspirantes a quants podem encontrar-se em diversas instituições financeiras mencionadas, seguindo muitos caminhos de carreira diferentes ao longo do tempo. Em muitos aspectos, a instituição que um quant escolher determinará quais habilidades de modelagem serão mais enfatizadas. Em instituições do lado da compra, como fundos hedge e gestores de ativos, há um foco intenso em técnicas econométricas e de construção de portfólios. Por outro lado, trabalhando no lado da venda, em corretoras ou bancos de investimento, o entendimento de processos estocásticos pode ter um papel mais importante. Mesmo dentro dessas instituições, o papel de um quant pode variar muito dependendo do grupo ou departamento em que está inserido. Para fornecer contexto adicional, nas seções seguintes, descreveremos brevemente as funções mais comuns dos quants em empresas do lado da compra, do lado da venda e fintechs."
   ]
  },
  {
   "cell_type": "markdown",
   "metadata": {},
   "source": [
    "### Lado da Compra  \n",
    "Nas instituições do lado da compra, a construção de produtos de investimento e a entrega de resultados de investimento estão no centro dos negócios. Por isso, muitos quants ingressam em empresas desse tipo, como gestoras de ativos, fundos de pensão e fundos hedge, com o foco em desenvolver modelos que resultem em portfólios otimizados, sinais de alfa ou em uma gestão de risco eficiente.\n",
    "\n",
    "Exemplos de funções dentro de instituições do lado da compra incluem:\n",
    "\n",
    "**Quants de Mesa:** Um quant de mesa atua no piso de negociação de um fundo hedge ou outra empresa do lado da compra, oferecendo suporte aos gestores de portfólio por meio de análises quantitativas. A função desse suporte pode variar muito de uma instituição para outra, podendo em alguns casos envolver muitos modelos de previsão e ter uma ênfase significativa em métodos de regressão, técnicas de aprendizado de máquina e modelagem de séries temporais/econometria. Em outros casos, o suporte pode envolver mais análises de avaliações de derivativos e a identificação de estratégias de hedge. Quants de mesa também podem fornecer análises quantitativas que apoiam processos de negociação discricionária.\n",
    "\n",
    "**Quants de Gestão de Ativos:** Um quant em uma gestora de ativos terá grande ênfase em técnicas de construção e otimização de portfólios. Por isso, o entendimento da teoria de otimização e das várias formas de aplicá-la a portfólios de investimento é uma habilidade fundamental. Quants de gestão de ativos também podem ser responsáveis por construir modelos de alfa e outros sinais e, para isso, utilizarão ferramentas de modelagem econométrica. \n",
    "\n",
    "**Quants de Pesquisa:** Quants de pesquisa tendem a focar mais em projetos de pesquisa de longo prazo, buscando construir novos modelos inovadores. Esses podem ser modelos de valor relativo, sinais de alfa proprietários ou técnicas inovadoras de construção de portfólios. Quants de pesquisa utilizam muitas das mesmas habilidades que outros quants, mas estão mais focados em projetar modelos proprietários e inovadores do que em fornecer análises pontuais para gestores de portfólios.\n",
    "\n",
    "**Desenvolvedores Quantitativos:** Desenvolvedores quantitativos são responsáveis por construir modelos de produção e aplicações para empresas do lado da compra. Nessa função, desenvolvedores quants precisam ser especialistas em programação, além de dominar a teoria financeira subjacente. Desenvolvedores quants se baseiam nas habilidades de programação e devem também ser capazes de aplicar a teoria financeira e os modelos descritos no restante do livro.\n",
    "\n",
    "**Gestores de Portfólio Quantitativos:** Geralmente, esses quants recebem um orçamento de risco definido, que utilizam para implementar estratégias quantitativas. Essas funções têm uma forte componente voltada para o mercado, mas também requerem a capacidade de utilizar ferramentas quantitativas, como regressão e aprendizado de máquina, para construir modelos sistemáticos. Assim, essas funções também exigem um sólido conhecimento em finanças para entender a dinâmica do mercado e identificar estratégias atraentes para serem executadas quantitativamente."
   ]
  },
  {
   "cell_type": "markdown",
   "metadata": {},
   "source": [
    "### Lado da Venda  \n",
    "Nas instituições do lado da venda, a criação de mercados e a estruturação de produtos para clientes são fatores cruciais para o sucesso, e os quants desempenham um papel importante nessas atividades. Muitos quants que ingressam nessas instituições são responsáveis pela criação de algoritmos de execução automatizada que ajudam a empresa a criar mercados. Outros podem se especializar em desenvolver produtos derivados personalizados para atender às necessidades de hedge dos clientes, um processo comumente conhecido no lado da venda como estruturação.\n",
    "\n",
    "Exemplos de funções quants no lado da venda incluem:\n",
    "\n",
    "**Quants de Mesa:** Semelhante aos quants de mesa do lado da compra, os quants de mesa no lado da venda trabalham em mesas de negociação, apoiando traders e formadores de mercado. Esses quants frequentemente ajudam a criar produtos estruturados personalizados para os clientes, o que pode envolver o desenvolvimento de opções exóticas com retornos específicos que forneçam exposições desejadas. Também pode incluir a criação de modelos de precificação para opções exóticas, modelagem de sensibilidades (os Gregos) para derivativos complexos e a construção de diferentes tipos de portfólios de hedge. Os quants de mesa no lado da venda utilizam os conceitos nos tópicos de precificação de opções exóticas abordados e nas estratégias de hedge.\n",
    "\n",
    "**Quants de Risco:** Os quants de risco ajudam as instituições do lado da venda a medir diversos tipos de risco, como risco de mercado, risco de contraparte, risco de modelo e risco operacional. Essas funções são frequentemente muito importantes em bancos, pois determinam os índices de capital e, consequentemente, o montante de caixa que os bancos devem manter. Os quants de risco de mercado são responsáveis por estabelecer limites de risco e desenhar testes de estresse. Além disso, esses quants frequentemente precisam trabalhar com os conceitos de modelagem.\n",
    "\n",
    "**Quants de Validação de Modelos:** Muitas instituições do lado da venda possuem equipes separadas dedicadas à validação de novos modelos de produção e de alterações nos modelos já existentes. Os quants dessas equipes, conhecidos como quants de validação de modelos, são responsáveis por entender a teoria financeira por trás dos modelos, analisar as premissas utilizadas e verificar os resultados de forma independente. Esses quants também adquirem conhecimento dos modelos subjacentes que estão validando ao implementá-los independentemente como parte do processo de verificação.\n",
    "\n",
    "**Traders Quants/Formadores de Mercado Automatizados:** Traders quants e formadores de mercado quants são responsáveis por construir algoritmos automatizados de formação de mercado. Esses algoritmos são usados para combinar compradores e vendedores de forma altamente eficiente, enquanto capturam o spread de compra e venda. Diferentemente de um gestor de portfólio quantitativo, um formador de mercado quant tende a desenvolver modelos de negociação de alta frequência e manter posições de risco por períodos muito curtos. Isso leva a uma ênfase maior na eficiência de código e nos algoritmos. \n",
    "\n",
    "**Desenvolvedores Quantitativos:** Assim como no lado da compra, desenvolvedores quantitativos no lado da venda são responsáveis por construir código de produção escalável para as instituições do lado da venda. Isso requer domínio de linguagens de programação como Python, além de sólido conhecimento de teoria financeira. Em contraste com os desenvolvedores quants do lado da compra, os desenvolvedores quants do lado da venda têm um foco maior nas técnicas de modelagem de opções."
   ]
  },
  {
   "cell_type": "markdown",
   "metadata": {},
   "source": []
  }
 ],
 "metadata": {
  "language_info": {
   "name": "python"
  }
 },
 "nbformat": 4,
 "nbformat_minor": 2
}
