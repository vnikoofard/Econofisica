{
 "cells": [
  {
   "cell_type": "markdown",
   "metadata": {},
   "source": [
    "# Chapter 4\n",
    "# Visual illustrations\n",
    "_Version: February 14, 2022, see_ [PyEcon.org](https://pyecon.org).\n",
    "\n",
    "The package matplotlib is a free software library for Python including the following functions:\n",
    "- Image plot, contour plot, scatter plot, polar plot, line plot\n",
    "- Variety of hardcopy formats\n",
    "- Works in Python scripts, the Python and IPython shell and the Jupyter notebook\n",
    "- Interactive environments"
   ]
  },
  {
   "cell_type": "markdown",
   "metadata": {},
   "source": [
    "## Section 4.1\n",
    "## Matplotlib package"
   ]
  },
  {
   "cell_type": "markdown",
   "metadata": {},
   "source": [
    "### Import matplotlib and simple example"
   ]
  },
  {
   "cell_type": "code",
   "execution_count": null,
   "metadata": {},
   "outputs": [],
   "source": [
    "import matplotlib.pyplot as plt\n",
    "import numpy as np\n",
    "plt.plot(np.arange(10))\n",
    "plt.savefig(\"out/list.pdf\")"
   ]
  },
  {
   "cell_type": "markdown",
   "metadata": {},
   "source": [
    "## Section 4.2\n",
    "## Figures and subplots"
   ]
  },
  {
   "cell_type": "markdown",
   "metadata": {},
   "source": [
    "### Create Figures"
   ]
  },
  {
   "cell_type": "code",
   "execution_count": null,
   "metadata": {},
   "outputs": [],
   "source": [
    "fig = plt.figure(figsize=(16, 8))\n",
    "print(plt.gcf())"
   ]
  },
  {
   "cell_type": "markdown",
   "metadata": {},
   "source": [
    "### Adding subplots"
   ]
  },
  {
   "cell_type": "code",
   "execution_count": null,
   "metadata": {},
   "outputs": [],
   "source": [
    "ax1 = fig.add_subplot(2, 2, 1)\n",
    "ax2 = fig.add_subplot(2, 2, 2)\n",
    "ax3 = fig.add_subplot(2, 2, 3)\n",
    "ax4 = fig.add_subplot(2, 2, 4)\n",
    "fig.savefig(\"out/subplots.pdf\")"
   ]
  },
  {
   "cell_type": "markdown",
   "metadata": {},
   "source": [
    "### Filling subplots with content"
   ]
  },
  {
   "cell_type": "code",
   "execution_count": null,
   "metadata": {},
   "outputs": [],
   "source": [
    "from numpy.random import randn\n",
    "ax1.plot([5, 7, 4, 3, 1])\n",
    "ax2.hist(randn(100), bins=20, color=\"r\")\n",
    "ax3.scatter(np.arange(30), np.arange(30) * randn(30))\n",
    "ax4.plot(randn(40), \"k--\")\n",
    "fig.savefig(\"out/content.pdf\")"
   ]
  },
  {
   "cell_type": "markdown",
   "metadata": {},
   "source": [
    "### Standard creation"
   ]
  },
  {
   "cell_type": "code",
   "execution_count": null,
   "metadata": {},
   "outputs": [],
   "source": [
    "fig, axes = plt.subplots(2, 3, figsize=(16, 8), sharey=True)\n",
    "axes[1, 1].plot(np.arange(7), color=\"r\")\n",
    "axes[0, 2].plot(np.arange(10, 0, -1))\n",
    "fig.savefig(\"out/standard.pdf\")"
   ]
  },
  {
   "cell_type": "markdown",
   "metadata": {},
   "source": [
    "## Section 4.3\n",
    "## Plot types and styles"
   ]
  },
  {
   "cell_type": "markdown",
   "metadata": {},
   "source": [
    "### Types"
   ]
  },
  {
   "cell_type": "code",
   "execution_count": null,
   "metadata": {},
   "outputs": [],
   "source": [
    "fig, ax = plt.subplots(1, 3, figsize=(16, 8))\n",
    "ax[0].hist([1, 2, 3, 4, 5, 4, 3, 2, 3, 4, 2, 3, 4, 4],\n",
    "           bins=5, color=\"yellow\")\n",
    "x = np.arange(0, 10, 0.1)\n",
    "y = np.sin(x)\n",
    "ax[1].fill_between(x, y, 0, color=\"green\")\n",
    "ax[2].scatter(x, y)\n",
    "fig.savefig(\"out/types.pdf\")"
   ]
  },
  {
   "cell_type": "markdown",
   "metadata": {},
   "source": [
    "### Adjust spacing"
   ]
  },
  {
   "cell_type": "code",
   "execution_count": null,
   "metadata": {},
   "outputs": [],
   "source": [
    "fig, axes = plt.subplots(2, 2, sharex=True, sharey=True)\n",
    "for i in range(2):\n",
    "    for j in range(2):\n",
    "        axes[i][j].plot(randn(10))\n",
    "plt.subplots_adjust(wspace=0, hspace=0)\n",
    "fig.savefig(\"out/spacing.pdf\")"
   ]
  },
  {
   "cell_type": "markdown",
   "metadata": {},
   "source": [
    "### Styles"
   ]
  },
  {
   "cell_type": "code",
   "execution_count": null,
   "metadata": {},
   "outputs": [],
   "source": [
    "fig, ax = plt.subplots(1, figsize=(15, 6))\n",
    "ax.plot(randn(10), linestyle=\"--\", color=\"darkcyan\", marker=\"p\")\n",
    "fig.savefig(\"out/style.pdf\")"
   ]
  },
  {
   "cell_type": "markdown",
   "metadata": {},
   "source": [
    "### Ticks and labels - default"
   ]
  },
  {
   "cell_type": "code",
   "execution_count": null,
   "metadata": {},
   "outputs": [],
   "source": [
    "fig, ax = plt.subplots(1, figsize=(15, 10))\n",
    "ax.plot(randn(1000).cumsum())\n",
    "fig.savefig(\"out/withoutlabels.pdf\")"
   ]
  },
  {
   "cell_type": "markdown",
   "metadata": {},
   "source": [
    "### Set ticks and labels"
   ]
  },
  {
   "cell_type": "code",
   "execution_count": null,
   "metadata": {},
   "outputs": [],
   "source": [
    "ax.set_xticks([0, 250, 500, 750, 1000])\n",
    "ax.set_xlabel(\"Days\", fontsize=20)\n",
    "ax.set_ylabel(\"Change\", fontsize=20)\n",
    "ax.set_title(\"Simulation\", fontsize=30)\n",
    "fig.savefig(\"out/labels.pdf\")"
   ]
  },
  {
   "cell_type": "markdown",
   "metadata": {},
   "source": [
    "### Set legend"
   ]
  },
  {
   "cell_type": "code",
   "execution_count": null,
   "metadata": {},
   "outputs": [],
   "source": [
    "fig = plt.figure(figsize=(15, 10))\n",
    "ax = fig.add_subplot(1, 1, 1)\n",
    "ax.plot(randn(1000).cumsum(), label=\"first\")\n",
    "ax.plot(randn(1000).cumsum(), label=\"second\")\n",
    "ax.plot(randn(1000).cumsum(), label=\"third\")\n",
    "ax.legend(loc=\"best\", fontsize=20)\n",
    "fig.savefig(\"out/legend.pdf\")"
   ]
  },
  {
   "cell_type": "markdown",
   "metadata": {},
   "source": [
    "### Annotations"
   ]
  },
  {
   "cell_type": "code",
   "execution_count": null,
   "metadata": {},
   "outputs": [],
   "source": [
    "ax.text(400, -30, \"here\", fontsize=50)\n",
    "ax.annotate(\"there\",\n",
    "            fontsize=40,\n",
    "            xy=(0, 0),\n",
    "            xytext=(400, 8),\n",
    "            arrowprops=dict(facecolor=\"black\",\n",
    "                            shrink=0.05))\n",
    "ax.set_yticks([-40, -30, -20, -10, 0, 10, 20, 30, 40])\n",
    "fig.savefig(\"out/arrow.pdf\")"
   ]
  },
  {
   "cell_type": "markdown",
   "metadata": {},
   "source": [
    "### Annotation Lehman"
   ]
  },
  {
   "cell_type": "code",
   "execution_count": null,
   "metadata": {},
   "outputs": [],
   "source": [
    "import pandas as pd\n",
    "from datetime import datetime\n",
    "\n",
    "date = datetime(2008, 9, 15)\n",
    "fig = plt.figure(figsize=(16, 8))\n",
    "ax = fig.add_subplot(1, 1, 1)\n",
    "dow = pd.read_csv(\"data/dji.csv\", index_col=0, parse_dates=True)\n",
    "close = dow[\"Close\"]\n",
    "close.plot(ax=ax)\n",
    "ax.annotate(\"Lehman Bankruptcy\",\n",
    "            fontsize=30,\n",
    "            xy=(date, close.loc[date] + 400),\n",
    "            xytext=(date, 22000),\n",
    "            arrowprops=dict(facecolor=\"red\",\n",
    "                            shrink=0.03))\n",
    "ax.set_title(\"Dow Jones Industrial Average\", size=40)\n",
    "fig.savefig(\"out/lehman.pdf\")"
   ]
  },
  {
   "cell_type": "markdown",
   "metadata": {},
   "source": [
    "### Drawing"
   ]
  },
  {
   "cell_type": "code",
   "execution_count": null,
   "metadata": {},
   "outputs": [],
   "source": [
    "fig = plt.figure(figsize=(6, 6))\n",
    "ax = fig.add_subplot(1, 1, 1)\n",
    "ax.set_xticks([0, 1, 2, 3, 4, 5])\n",
    "ax.set_yticks([0, 1, 2, 3, 4, 5])\n",
    "rectangle = plt.Rectangle((1.5, 1),\n",
    "                          width=0.8, height=2,\n",
    "                          color=\"red\", angle=30)\n",
    "circ = plt.Circle((3, 3),\n",
    "                  radius=1, color=\"blue\")\n",
    "ax.add_patch(rectangle)\n",
    "ax.add_patch(circ)\n",
    "fig.savefig(\"out/draw.pdf\")"
   ]
  },
  {
   "cell_type": "markdown",
   "metadata": {},
   "source": [
    "### Best practice Step 1"
   ]
  },
  {
   "cell_type": "code",
   "execution_count": null,
   "metadata": {},
   "outputs": [],
   "source": [
    "fig, ax = plt.subplots(1, 1, figsize=(16, 8))"
   ]
  },
  {
   "cell_type": "markdown",
   "metadata": {},
   "source": [
    "### Best practice Step 2"
   ]
  },
  {
   "cell_type": "code",
   "execution_count": null,
   "metadata": {},
   "outputs": [],
   "source": [
    "x = np.arange(0, 10, 0.1)\n",
    "y = np.sin(x)\n",
    "ax.scatter(x, y)"
   ]
  },
  {
   "cell_type": "markdown",
   "metadata": {},
   "source": [
    "### Best practice Step 3"
   ]
  },
  {
   "cell_type": "code",
   "execution_count": null,
   "metadata": {},
   "outputs": [],
   "source": [
    "ax.scatter(x, y, color=\"green\", marker=\"s\")"
   ]
  },
  {
   "cell_type": "markdown",
   "metadata": {},
   "source": [
    "### Best practice Step 4"
   ]
  },
  {
   "cell_type": "code",
   "execution_count": null,
   "metadata": {},
   "outputs": [],
   "source": [
    "ax.set_title(\"Sine wave\", fontsize=30)\n",
    "ax.set_xticks([0, 2.5, 5, 7.5, 10])\n",
    "ax.set_yticks([-1, 0, 1])\n",
    "ax.set_ylabel(\"y-value\", fontsize=20)\n",
    "ax.set_xlabel(\"x-value\", fontsize=20)"
   ]
  },
  {
   "cell_type": "markdown",
   "metadata": {},
   "source": [
    "### Best practice Step 5"
   ]
  },
  {
   "cell_type": "code",
   "execution_count": null,
   "metadata": {},
   "outputs": [],
   "source": [
    "ax.scatter(x, y, color=\"green\", marker=\"s\", label=\"Sine\")"
   ]
  },
  {
   "cell_type": "markdown",
   "metadata": {},
   "source": [
    "### Best practice Step 6"
   ]
  },
  {
   "cell_type": "code",
   "execution_count": null,
   "metadata": {},
   "outputs": [],
   "source": [
    "ax.plot(np.arange(11) / 10, color=\"blue\", linestyle=\"-\",\n",
    "        label=\"Linear\")\n",
    "ax.legend(fontsize=20)"
   ]
  },
  {
   "cell_type": "markdown",
   "metadata": {},
   "source": [
    "### Best practice Step 7"
   ]
  },
  {
   "cell_type": "code",
   "execution_count": null,
   "metadata": {},
   "outputs": [],
   "source": [
    "fig.savefig(\"out/sinewave.pdf\")"
   ]
  },
  {
   "cell_type": "markdown",
   "metadata": {},
   "source": [
    "## Section 4.4\n",
    "## Pandas layers"
   ]
  },
  {
   "cell_type": "markdown",
   "metadata": {},
   "source": [
    "### Simple line plot"
   ]
  },
  {
   "cell_type": "code",
   "execution_count": null,
   "metadata": {},
   "outputs": [],
   "source": [
    "plt.close(\"all\")\n",
    "p = pd.Series(np.random.rand(10).cumsum(),\n",
    "              index=np.arange(0, 1000, 100))\n",
    "p\n",
    "p.plot()\n",
    "plt.savefig(\"out/line.pdf\")"
   ]
  },
  {
   "cell_type": "markdown",
   "metadata": {},
   "source": [
    "### Line plots"
   ]
  },
  {
   "cell_type": "code",
   "execution_count": null,
   "metadata": {},
   "outputs": [],
   "source": [
    "df = pd.DataFrame(np.random.randn(10, 3), index=np.arange(10),\n",
    "                  columns=[\"a\", \"b\", \"c\"])\n",
    "df\n",
    "df.plot(figsize=(15, 12))\n",
    "plt.savefig(\"out/line2.pdf\")"
   ]
  },
  {
   "cell_type": "markdown",
   "metadata": {},
   "source": [
    "### Separated line plots"
   ]
  },
  {
   "cell_type": "code",
   "execution_count": null,
   "metadata": {},
   "outputs": [],
   "source": [
    "df.plot(grid=True, rot=45, subplots=True, title=\"Example\",\n",
    "        figsize=(15, 10))\n",
    "plt.savefig(\"out/pandas.pdf\")"
   ]
  },
  {
   "cell_type": "markdown",
   "metadata": {},
   "source": [
    "### Standard creation"
   ]
  },
  {
   "cell_type": "code",
   "execution_count": null,
   "metadata": {},
   "outputs": [],
   "source": [
    "fig = plt.figure(figsize=(6, 6))\n",
    "ax = fig.add_subplot(1, 1, 1)\n",
    "guests = np.array([[1334, 456], [1243, 597], [1477, 505],\n",
    "                   [1502, 404], [854, 512], [682, 0]])\n",
    "canteen = pd.DataFrame(guests,\n",
    "                       index=[\"Mon\", \"Tue\", \"Wed\",\n",
    "                              \"Thu\", \"Fri\", \"Sat\"],\n",
    "                       columns=[\"Zentral\", \"Turm\"])\n",
    "canteen"
   ]
  },
  {
   "cell_type": "markdown",
   "metadata": {},
   "source": [
    "### Bar plot"
   ]
  },
  {
   "cell_type": "code",
   "execution_count": null,
   "metadata": {},
   "outputs": [],
   "source": [
    "canteen.plot(ax=ax, kind=\"bar\")\n",
    "ax.set_ylabel(\"guests\", fontsize=20)\n",
    "ax.set_title(\"Canteen use in Göttingen\", fontsize=20)\n",
    "fig.savefig(\"out/canteen.pdf\")"
   ]
  },
  {
   "cell_type": "markdown",
   "metadata": {},
   "source": [
    "### Bar plot - stacked"
   ]
  },
  {
   "cell_type": "code",
   "execution_count": null,
   "metadata": {},
   "outputs": [],
   "source": [
    "canteen.plot(ax=ax, kind=\"bar\", stacked=True)\n",
    "ax.set_ylabel(\"guests\", fontsize=20)\n",
    "ax.set_title(\"Canteen use in Göttingen\", fontsize=20)\n",
    "fig.savefig(\"out/canteenstacked.pdf\")"
   ]
  },
  {
   "cell_type": "markdown",
   "metadata": {},
   "source": [
    "### BTC chart"
   ]
  },
  {
   "cell_type": "code",
   "execution_count": null,
   "metadata": {},
   "outputs": [],
   "source": [
    "fig = plt.figure(figsize=(16, 8))\n",
    "ax = fig.add_subplot(1, 1, 1)\n",
    "ax.set_ylabel(\"price\", fontsize=20)\n",
    "ax.set_xlabel(\"Date\", fontsize=20)\n",
    "BTC = pd.read_csv(\"data/btc-eur.csv\", index_col=0, parse_dates=True)\n",
    "BTCclose = BTC[\"Close\"]\n",
    "BTCclose.plot(ax=ax)\n",
    "ax.set_title(\"BTC-EUR\", fontsize=20)\n",
    "fig.savefig(\"out/btc.pdf\")"
   ]
  },
  {
   "cell_type": "markdown",
   "metadata": {},
   "source": [
    "### Compare - bad illustration"
   ]
  },
  {
   "cell_type": "code",
   "execution_count": null,
   "metadata": {},
   "outputs": [],
   "source": [
    "amazon = pd.read_csv(\"data/amzn.csv\", index_col=0,\n",
    "                     parse_dates=True)[\"Close\"]\n",
    "siemens = pd.read_csv(\"data/sie.de.csv\", index_col=0,\n",
    "                      parse_dates=True)[\"Close\"]\n",
    "fig = plt.figure(figsize=(16, 8))\n",
    "ax = fig.add_subplot(1, 1, 1)\n",
    "ax.set_ylabel(\"price\")\n",
    "amazon.plot(ax=ax, label=\"Amazon\")\n",
    "siemens.plot(ax=ax, label=\"Siemens\")\n",
    "ax.legend(loc=\"best\")\n",
    "fig.savefig(\"out/compare.pdf\")"
   ]
  },
  {
   "cell_type": "markdown",
   "metadata": {},
   "source": [
    "### Compare - good illustration"
   ]
  },
  {
   "cell_type": "code",
   "execution_count": null,
   "metadata": {},
   "outputs": [],
   "source": [
    "amazon = amazon / amazon[0] * 100\n",
    "siemens = siemens / siemens[0] * 100\n",
    "fig = plt.figure(figsize=(16, 8))\n",
    "ax = fig.add_subplot(1, 1, 1)\n",
    "ax.set_ylabel(\"percentage\")\n",
    "amazon.plot(ax=ax, label=\"Amazon\")\n",
    "siemens.plot(ax=ax, label=\"Siemens\")\n",
    "ax.legend(loc=\"best\")\n",
    "fig.savefig(\"out/comparenew.pdf\")"
   ]
  }
 ],
 "metadata": {
  "kernelspec": {
   "display_name": "Python 3",
   "language": "python",
   "name": "python3"
  },
  "language_info": {
   "codemirror_mode": {
    "name": "ipython",
    "version": 3
   },
   "file_extension": ".py",
   "mimetype": "text/x-python",
   "name": "python",
   "nbconvert_exporter": "python",
   "pygments_lexer": "ipython3",
   "version": "3.6.6"
  }
 },
 "nbformat": 4,
 "nbformat_minor": 2
}
