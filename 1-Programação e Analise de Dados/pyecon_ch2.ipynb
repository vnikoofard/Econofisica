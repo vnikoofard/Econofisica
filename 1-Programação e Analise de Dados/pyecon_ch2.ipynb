{
 "cells": [
  {
   "cell_type": "markdown",
   "metadata": {},
   "source": [
    "# Chapter 2\n",
    "# Numerical programming\n",
    "_Version: February 14, 2022, see_ [PyEcon.org](https://pyecon.org).\n",
    "\n",
    "The Numerical Python package (NumPy) provides efficient tools for scientific computing and data analysis:\n",
    "- np.array(): Multidimensional array capable of doing fast and efficient computations,\n",
    "- Built-in mathematical functions on arrays without writing loops,\n",
    "- Built-in linear algebra functions."
   ]
  },
  {
   "cell_type": "markdown",
   "metadata": {},
   "source": [
    "## Section 2.1\n",
    "## NumPy package"
   ]
  },
  {
   "cell_type": "markdown",
   "metadata": {},
   "source": [
    "### Import NumPy"
   ]
  },
  {
   "cell_type": "code",
   "execution_count": 2,
   "metadata": {},
   "outputs": [],
   "source": [
    "import numpy as np"
   ]
  },
  {
   "cell_type": "markdown",
   "metadata": {},
   "source": [
    "### Element-wise addition"
   ]
  },
  {
   "cell_type": "code",
   "execution_count": null,
   "metadata": {},
   "outputs": [],
   "source": [
    "vec1 = [1, 2, 3, 4, 5, 6, 7, 8, 9]\n",
    "vec2 = np.array(vec1)\n",
    "vec1 + vec1\n",
    "vec2 + vec2\n",
    "for i in range(len(vec1)):\n",
    "    vec1[i] += vec1[i]\n",
    "vec1"
   ]
  },
  {
   "cell_type": "markdown",
   "metadata": {},
   "source": [
    "### Matrix multiplication"
   ]
  },
  {
   "cell_type": "code",
   "execution_count": null,
   "metadata": {},
   "outputs": [],
   "source": [
    "mat1 = [[1, 2, 3], [4, 5, 6], [7, 8, 9]]\n",
    "mat2 = np.array(mat1)\n",
    "np.dot(mat2, mat2)\n",
    "mat3 = np.zeros([3, 3])\n",
    "for i in range(3):\n",
    "    for k in range(3):\n",
    "        for j in range(3):\n",
    "            mat3[i][k] = mat3[i][k] + mat1[i][j] * mat1[j][k]\n",
    "mat3"
   ]
  },
  {
   "cell_type": "markdown",
   "metadata": {},
   "source": [
    "### Time comparison"
   ]
  },
  {
   "cell_type": "code",
   "execution_count": null,
   "metadata": {},
   "outputs": [],
   "source": [
    "import time\n",
    "mat1 = np.random.rand(50, 50)\n",
    "mat2 = np.array(mat1)\n",
    "t = time.time()\n",
    "mat3 = np.dot(mat2, mat2)\n",
    "nptime = time.time() - t\n",
    "mat3 = np.zeros([50, 50])\n",
    "t = time.time()\n",
    "for i in range(50):\n",
    "    for k in range(50):\n",
    "        for j in range(50):\n",
    "            mat3[i][k] = mat3[i][k] + mat1[i][j] * mat1[j][k]\n",
    "pytime = time.time() - t\n",
    "times = str(pytime / nptime)\n",
    "print(\"NumPy is \" + times + \" times faster!\")"
   ]
  },
  {
   "cell_type": "markdown",
   "metadata": {},
   "source": [
    "## Section 2.2\n",
    "## Array basics"
   ]
  },
  {
   "cell_type": "markdown",
   "metadata": {},
   "source": [
    "### Creation"
   ]
  },
  {
   "cell_type": "code",
   "execution_count": 3,
   "metadata": {},
   "outputs": [
    {
     "data": {
      "text/plain": [
       "(3, 3)"
      ]
     },
     "execution_count": 3,
     "metadata": {},
     "output_type": "execute_result"
    }
   ],
   "source": [
    "arr1 = [4, 8, 2]\n",
    "arr1 = np.array(arr1)\n",
    "arr2 = np.array([24.3, 0., 8.9, 4.4, 1.65, 45])\n",
    "arr3 = np.array([[4, 8, 5], [9, 3, 4], [1, 0, 6]])\n",
    "arr1.ndim\n",
    "arr3.shape"
   ]
  },
  {
   "cell_type": "markdown",
   "metadata": {},
   "source": [
    "### Creation functions"
   ]
  },
  {
   "cell_type": "code",
   "execution_count": null,
   "metadata": {},
   "outputs": [],
   "source": [
    "np.zeros((4, 3))\n",
    "np.arange(6)\n",
    "np.identity(3)"
   ]
  },
  {
   "cell_type": "markdown",
   "metadata": {},
   "source": [
    "### Array creation"
   ]
  },
  {
   "cell_type": "code",
   "execution_count": null,
   "metadata": {},
   "outputs": [],
   "source": [
    "np.linspace(0, 80, 5)\n",
    "np.full((5, 4), 7)"
   ]
  },
  {
   "cell_type": "markdown",
   "metadata": {},
   "source": [
    "### Array of random numbers"
   ]
  },
  {
   "cell_type": "code",
   "execution_count": null,
   "metadata": {},
   "outputs": [],
   "source": [
    "np.random.rand(3, 3)\n",
    "np.random.randint(10, size=(5, 4))"
   ]
  },
  {
   "cell_type": "markdown",
   "metadata": {},
   "source": [
    "### Reference"
   ]
  },
  {
   "cell_type": "code",
   "execution_count": 4,
   "metadata": {},
   "outputs": [],
   "source": [
    "arr3\n",
    "arr = arr3\n",
    "arr[1, 1] = 777\n",
    "arr3\n",
    "arr3[1, 1] = 3"
   ]
  },
  {
   "cell_type": "markdown",
   "metadata": {},
   "source": [
    "### Data types"
   ]
  },
  {
   "cell_type": "code",
   "execution_count": 5,
   "metadata": {},
   "outputs": [
    {
     "data": {
      "text/plain": [
       "dtype('int64')"
      ]
     },
     "execution_count": 5,
     "metadata": {},
     "output_type": "execute_result"
    }
   ],
   "source": [
    "arr1.dtype\n",
    "arr2.dtype\n",
    "arr1 = arr1 * 2.5\n",
    "arr1.dtype\n",
    "arr1 = (arr1 / 2.5).astype(np.int64)\n",
    "arr1.dtype"
   ]
  },
  {
   "cell_type": "markdown",
   "metadata": {},
   "source": [
    "### Element-wise operations"
   ]
  },
  {
   "cell_type": "code",
   "execution_count": null,
   "metadata": {},
   "outputs": [],
   "source": [
    "arr3\n",
    "arr3 + arr3\n",
    "arr3**2"
   ]
  },
  {
   "cell_type": "markdown",
   "metadata": {},
   "source": [
    "### Element-wise operations"
   ]
  },
  {
   "cell_type": "code",
   "execution_count": null,
   "metadata": {},
   "outputs": [],
   "source": [
    "arr3 * arr3\n",
    "arr = np.ones((3, 2))\n",
    "arr\n",
    "arr3 * arr  # not defined for element-wise multiplication"
   ]
  },
  {
   "cell_type": "markdown",
   "metadata": {},
   "source": [
    "### Indexing with an integer"
   ]
  },
  {
   "cell_type": "code",
   "execution_count": null,
   "metadata": {},
   "outputs": [],
   "source": [
    "arr = np.arange(10)\n",
    "arr\n",
    "arr[4]\n",
    "arr[-1]"
   ]
  },
  {
   "cell_type": "markdown",
   "metadata": {},
   "source": [
    "### Slicing in one dimension"
   ]
  },
  {
   "cell_type": "code",
   "execution_count": null,
   "metadata": {},
   "outputs": [],
   "source": [
    "arr = np.arange(10)\n",
    "arr\n",
    "arr[3:7]\n",
    "arr[1:]"
   ]
  },
  {
   "cell_type": "markdown",
   "metadata": {},
   "source": [
    "### Slicing in one dimension with steps"
   ]
  },
  {
   "cell_type": "code",
   "execution_count": null,
   "metadata": {},
   "outputs": [],
   "source": [
    "arr[:7]\n",
    "arr[-3:]\n",
    "arr[::-1]\n",
    "arr[::2]"
   ]
  },
  {
   "cell_type": "markdown",
   "metadata": {},
   "source": [
    "### Indexing rows"
   ]
  },
  {
   "cell_type": "code",
   "execution_count": null,
   "metadata": {},
   "outputs": [],
   "source": [
    "arr3\n",
    "vec = arr3[1]\n",
    "vec\n",
    "arr3[-1]"
   ]
  },
  {
   "cell_type": "markdown",
   "metadata": {},
   "source": [
    "### Slicing in two dimensions"
   ]
  },
  {
   "cell_type": "code",
   "execution_count": null,
   "metadata": {},
   "outputs": [],
   "source": [
    "arr3\n",
    "arr3[0:2, 0:2]\n",
    "arr3[2:, :]"
   ]
  },
  {
   "cell_type": "markdown",
   "metadata": {},
   "source": [
    "### Create a view by slicing"
   ]
  },
  {
   "cell_type": "code",
   "execution_count": 8,
   "metadata": {},
   "outputs": [
    {
     "data": {
      "text/plain": [
       "array([[  4,   8,   5],\n",
       "       [  9, 100,   4],\n",
       "       [  1,   0,   6]])"
      ]
     },
     "execution_count": 8,
     "metadata": {},
     "output_type": "execute_result"
    }
   ],
   "source": [
    "column = arr3[:, 1]\n",
    "column\n",
    "column.base\n",
    "\n"
   ]
  },
  {
   "cell_type": "code",
   "execution_count": 9,
   "metadata": {},
   "outputs": [
    {
     "data": {
      "text/plain": [
       "array([  8, 100,   0])"
      ]
     },
     "execution_count": 9,
     "metadata": {},
     "output_type": "execute_result"
    }
   ],
   "source": [
    "column"
   ]
  },
  {
   "cell_type": "code",
   "execution_count": 7,
   "metadata": {},
   "outputs": [
    {
     "data": {
      "text/plain": [
       "array([[  4,   8,   5],\n",
       "       [  9, 100,   4],\n",
       "       [  1,   0,   6]])"
      ]
     },
     "execution_count": 7,
     "metadata": {},
     "output_type": "execute_result"
    }
   ],
   "source": [
    "column[1] = 100\n",
    "arr3"
   ]
  },
  {
   "cell_type": "markdown",
   "metadata": {},
   "source": [
    "### Boolean arrays"
   ]
  },
  {
   "cell_type": "code",
   "execution_count": 10,
   "metadata": {},
   "outputs": [
    {
     "data": {
      "text/plain": [
       "array([[False, False, False],\n",
       "       [False, False, False],\n",
       "       [False,  True, False]])"
      ]
     },
     "execution_count": 10,
     "metadata": {},
     "output_type": "execute_result"
    }
   ],
   "source": [
    "bool_arr = (arr3 < 5)\n",
    "bool_arr\n",
    "bool_arr1 = (arr3 == 0)\n",
    "bool_arr1"
   ]
  },
  {
   "cell_type": "markdown",
   "metadata": {},
   "source": [
    "### Boolean arrays and bitwise operators"
   ]
  },
  {
   "cell_type": "code",
   "execution_count": null,
   "metadata": {},
   "outputs": [],
   "source": [
    "a = np.array([3, 8, 4, 1, 9, 5, 2])\n",
    "b = np.array([2, 3, 5, 6, 11, 15, 17])\n",
    "c = (a % 2 == 0) | (b % 3 == 0)  # or\n",
    "c\n",
    "d = (a > b) ^ (a % 2 == 1)  # exclusive or\n",
    "d\n",
    "c ^ d  # exclusive or"
   ]
  },
  {
   "cell_type": "markdown",
   "metadata": {},
   "source": [
    "### Indexing with boolean arrays"
   ]
  },
  {
   "cell_type": "code",
   "execution_count": null,
   "metadata": {},
   "outputs": [],
   "source": [
    "arr3\n",
    "y = arr3 % 2 == 0\n",
    "y\n",
    "arr3[y]"
   ]
  },
  {
   "cell_type": "markdown",
   "metadata": {},
   "source": [
    "### Find and replace values in arrays"
   ]
  },
  {
   "cell_type": "code",
   "execution_count": 15,
   "metadata": {},
   "outputs": [],
   "source": [
    "a, b = arr3.copy(), arr3.copy()\n",
    "for i in range(a.shape[0]):\n",
    "    for j in range(a.shape[1]):\n",
    "        if a[i, j] % 2 == 0:\n",
    "            a[i, j] = 5\n",
    "\n"
   ]
  },
  {
   "cell_type": "code",
   "execution_count": 16,
   "metadata": {},
   "outputs": [
    {
     "data": {
      "text/plain": [
       "array([[  4,   8,   5],\n",
       "       [  9, 100,   4],\n",
       "       [  1,   0,   6]])"
      ]
     },
     "execution_count": 16,
     "metadata": {},
     "output_type": "execute_result"
    }
   ],
   "source": [
    "a, b = arr3.copy(), arr3.copy()\n",
    "b"
   ]
  },
  {
   "cell_type": "code",
   "execution_count": 17,
   "metadata": {},
   "outputs": [
    {
     "data": {
      "text/plain": [
       "array([[ True,  True, False],\n",
       "       [False,  True,  True],\n",
       "       [False,  True,  True]])"
      ]
     },
     "execution_count": 17,
     "metadata": {},
     "output_type": "execute_result"
    }
   ],
   "source": [
    "b % 2 == 0"
   ]
  },
  {
   "cell_type": "code",
   "execution_count": 18,
   "metadata": {},
   "outputs": [
    {
     "data": {
      "text/plain": [
       "array([  4,   8, 100,   4,   0,   6])"
      ]
     },
     "execution_count": 18,
     "metadata": {},
     "output_type": "execute_result"
    }
   ],
   "source": [
    "b[b % 2 == 0]"
   ]
  },
  {
   "cell_type": "code",
   "execution_count": 19,
   "metadata": {},
   "outputs": [
    {
     "data": {
      "text/plain": [
       "array([[5, 5, 5],\n",
       "       [9, 5, 5],\n",
       "       [1, 5, 5]])"
      ]
     },
     "execution_count": 19,
     "metadata": {},
     "output_type": "execute_result"
    }
   ],
   "source": [
    "b[b % 2 == 0] = 5\n",
    "b\n"
   ]
  },
  {
   "cell_type": "code",
   "execution_count": null,
   "metadata": {},
   "outputs": [],
   "source": [
    "np.allclose(a, b)"
   ]
  },
  {
   "cell_type": "markdown",
   "metadata": {},
   "source": [
    "### Find and replace values in arrays, condition: equal"
   ]
  },
  {
   "cell_type": "code",
   "execution_count": 20,
   "metadata": {},
   "outputs": [
    {
     "data": {
      "text/plain": [
       "array([[100,   8,   5],\n",
       "       [  9, 100, 100],\n",
       "       [  1,   0,   6]])"
      ]
     },
     "execution_count": 20,
     "metadata": {},
     "output_type": "execute_result"
    }
   ],
   "source": [
    "arr3\n",
    "arr = arr3.copy()\n",
    "arr[arr == 4] = 100\n",
    "arr"
   ]
  },
  {
   "cell_type": "code",
   "execution_count": 21,
   "metadata": {},
   "outputs": [
    {
     "data": {
      "text/plain": [
       "array([[  4,   8,   5],\n",
       "       [  9, 100,   4],\n",
       "       [  1,   0,   6]])"
      ]
     },
     "execution_count": 21,
     "metadata": {},
     "output_type": "execute_result"
    }
   ],
   "source": [
    "arr3"
   ]
  },
  {
   "cell_type": "code",
   "execution_count": 22,
   "metadata": {},
   "outputs": [
    {
     "name": "stdout",
     "output_type": "stream",
     "text": [
      "[4 8 5]\n",
      "[  9 100   4]\n",
      "[1 0 6]\n"
     ]
    }
   ],
   "source": [
    "for item in arr3:\n",
    "    print(item)"
   ]
  },
  {
   "cell_type": "markdown",
   "metadata": {},
   "source": [
    "### Best practice Step 1a"
   ]
  },
  {
   "cell_type": "code",
   "execution_count": null,
   "metadata": {},
   "outputs": [],
   "source": [
    "mat = np.arange(12).reshape((3, 4))\n",
    "mat\n",
    "mat[2, 2]\n",
    "mat[0, -1]"
   ]
  },
  {
   "cell_type": "markdown",
   "metadata": {},
   "source": [
    "### Best practice Step 1b"
   ]
  },
  {
   "cell_type": "code",
   "execution_count": null,
   "metadata": {},
   "outputs": [],
   "source": [
    "mat = np.arange(12).reshape((3, 4))\n",
    "mat\n",
    "mat[2]\n",
    "mat[0]"
   ]
  },
  {
   "cell_type": "markdown",
   "metadata": {},
   "source": [
    "### Best practice Step 2a"
   ]
  },
  {
   "cell_type": "code",
   "execution_count": null,
   "metadata": {},
   "outputs": [],
   "source": [
    "mat = np.arange(12).reshape((3, 4))\n",
    "mat\n",
    "mat[0:2]\n",
    "mat[0:2, ::2]"
   ]
  },
  {
   "cell_type": "markdown",
   "metadata": {},
   "source": [
    "### Best practice Step 2b"
   ]
  },
  {
   "cell_type": "code",
   "execution_count": null,
   "metadata": {},
   "outputs": [],
   "source": [
    "mat\n",
    "row = mat[1]  # get second row\n",
    "column = mat[:, 2]  # get third column\n",
    "row\n",
    "column"
   ]
  },
  {
   "cell_type": "markdown",
   "metadata": {},
   "source": [
    "### Best practice Step 3"
   ]
  },
  {
   "cell_type": "code",
   "execution_count": null,
   "metadata": {},
   "outputs": [],
   "source": [
    "mat = np.arange(12).reshape((3, 4))\n",
    "mat\n",
    "mat[[1, 2], [1, 2]]\n",
    "mat[[0, -1], [-1]]"
   ]
  },
  {
   "cell_type": "markdown",
   "metadata": {},
   "source": [
    "### Best practice Step 4"
   ]
  },
  {
   "cell_type": "code",
   "execution_count": null,
   "metadata": {},
   "outputs": [],
   "source": [
    "bool_mat = mat > 0\n",
    "bool_mat\n",
    "mat[bool_mat] = 111  # equivalent to mat[mat > 0] = 111\n",
    "mat"
   ]
  },
  {
   "cell_type": "markdown",
   "metadata": {},
   "source": [
    "### Best practice Step 5"
   ]
  },
  {
   "cell_type": "code",
   "execution_count": null,
   "metadata": {},
   "outputs": [],
   "source": [
    "mat[0] = np.array([3, 2, 1])  # Fails because the shapes do not fit\n",
    "mat[2, 3] = 100\n",
    "mat[:, 0] = np.array([3, 3, 3])\n",
    "mat\n",
    "mat[1:3, 1:3] = np.array([[0, 0], [0, 0]])\n",
    "mat"
   ]
  },
  {
   "cell_type": "markdown",
   "metadata": {},
   "source": [
    "### Reshape"
   ]
  },
  {
   "cell_type": "code",
   "execution_count": null,
   "metadata": {},
   "outputs": [],
   "source": [
    "arr = np.arange(15)\n",
    "arr.reshape((3, 5))\n",
    "\n",
    "arr = np.arange(15)\n",
    "arr.resize((3, 7))\n",
    "arr"
   ]
  },
  {
   "cell_type": "markdown",
   "metadata": {},
   "source": [
    "### Naming"
   ]
  },
  {
   "cell_type": "code",
   "execution_count": null,
   "metadata": {},
   "outputs": [],
   "source": [
    "a = np.arange(5)\n",
    "a = np.append(a, 8)\n",
    "a = np.insert(a, 3, 77)\n",
    "print(a)\n",
    "a.resize((3, 3))\n",
    "np.delete(a, 1, axis=0)"
   ]
  },
  {
   "cell_type": "markdown",
   "metadata": {},
   "source": [
    "### Naming"
   ]
  },
  {
   "cell_type": "code",
   "execution_count": 23,
   "metadata": {},
   "outputs": [
    {
     "data": {
      "text/plain": [
       "array([[  4,   8,   5],\n",
       "       [  9, 100,   4],\n",
       "       [  1,   0,   6]])"
      ]
     },
     "execution_count": 23,
     "metadata": {},
     "output_type": "execute_result"
    }
   ],
   "source": [
    "a"
   ]
  },
  {
   "cell_type": "code",
   "execution_count": 25,
   "metadata": {},
   "outputs": [
    {
     "data": {
      "text/plain": [
       "array([[0, 1, 2],\n",
       "       [3, 4, 5]])"
      ]
     },
     "execution_count": 25,
     "metadata": {},
     "output_type": "execute_result"
    }
   ],
   "source": [
    "np.arange(6).reshape(2, 3)"
   ]
  },
  {
   "cell_type": "code",
   "execution_count": null,
   "metadata": {},
   "outputs": [],
   "source": [
    "np.concatenate((a, np.arange(6).reshape(2, 3)), axis=0)\n",
    "np.split(np.arange(8), 4)"
   ]
  },
  {
   "cell_type": "markdown",
   "metadata": {},
   "source": [
    "### Transpose"
   ]
  },
  {
   "cell_type": "code",
   "execution_count": null,
   "metadata": {},
   "outputs": [],
   "source": [
    "arr3\n",
    "arr3.T\n",
    "np.eye(3).T"
   ]
  },
  {
   "cell_type": "markdown",
   "metadata": {},
   "source": [
    "### Matrix multiplication"
   ]
  },
  {
   "cell_type": "code",
   "execution_count": null,
   "metadata": {},
   "outputs": [],
   "source": [
    "res = np.dot(arr3, np.arange(18).reshape((3, 6)))\n",
    "res\n",
    "res2 = arr3 @ np.arange(18).reshape((3, 6))\n",
    "res2\n",
    "np.allclose(res, res2)"
   ]
  },
  {
   "cell_type": "markdown",
   "metadata": {},
   "source": [
    "### Element-wise functions"
   ]
  },
  {
   "cell_type": "code",
   "execution_count": null,
   "metadata": {},
   "outputs": [],
   "source": [
    "arr3\n",
    "np.sqrt(arr3)\n",
    "np.exp(arr3)"
   ]
  },
  {
   "cell_type": "markdown",
   "metadata": {},
   "source": [
    "### Binary"
   ]
  },
  {
   "cell_type": "code",
   "execution_count": null,
   "metadata": {},
   "outputs": [],
   "source": [
    "x = np.array([3, -6, 8, 4, 3, 5])\n",
    "y = np.array([3, 5, 7, 3, 5, 9])\n",
    "np.maximum(x, y)\n",
    "np.greater_equal(x, y)\n",
    "np.add(x, y)\n",
    "np.mod(x, y)"
   ]
  },
  {
   "cell_type": "markdown",
   "metadata": {},
   "source": [
    "### Evaluate the function $f(x,y)=\\sqrt{x^{2}+y^{2}}$ on a 10 x 10 grid"
   ]
  },
  {
   "cell_type": "code",
   "execution_count": 26,
   "metadata": {},
   "outputs": [
    {
     "data": {
      "text/plain": [
       "array([[-5, -4, -3, -2, -1,  0,  1,  2,  3,  4],\n",
       "       [-5, -4, -3, -2, -1,  0,  1,  2,  3,  4],\n",
       "       [-5, -4, -3, -2, -1,  0,  1,  2,  3,  4],\n",
       "       [-5, -4, -3, -2, -1,  0,  1,  2,  3,  4],\n",
       "       [-5, -4, -3, -2, -1,  0,  1,  2,  3,  4],\n",
       "       [-5, -4, -3, -2, -1,  0,  1,  2,  3,  4],\n",
       "       [-5, -4, -3, -2, -1,  0,  1,  2,  3,  4],\n",
       "       [-5, -4, -3, -2, -1,  0,  1,  2,  3,  4],\n",
       "       [-5, -4, -3, -2, -1,  0,  1,  2,  3,  4],\n",
       "       [-5, -4, -3, -2, -1,  0,  1,  2,  3,  4]])"
      ]
     },
     "execution_count": 26,
     "metadata": {},
     "output_type": "execute_result"
    }
   ],
   "source": [
    "p = np.arange(-5, 5, 1)\n",
    "x, y = np.meshgrid(p, p)\n",
    "x"
   ]
  },
  {
   "cell_type": "markdown",
   "metadata": {},
   "source": [
    "### Evaluate the function $f(x,y)=\\sqrt{x^{2}+y^{2}}$ on a 10 x 10 grid."
   ]
  },
  {
   "cell_type": "code",
   "execution_count": 27,
   "metadata": {},
   "outputs": [
    {
     "data": {
      "text/plain": [
       "<matplotlib.colorbar.Colorbar at 0x7136aa50ca50>"
      ]
     },
     "execution_count": 27,
     "metadata": {},
     "output_type": "execute_result"
    },
    {
     "data": {
      "image/png": "[encoded data removed]",
      "text/plain": [
       "<Figure size 200x200 with 2 Axes>"
      ]
     },
     "metadata": {},
     "output_type": "display_data"
    }
   ],
   "source": [
    "import matplotlib.pyplot as plt\n",
    "val = np.sqrt(x**2 + y**2)\n",
    "plt.figure(figsize=(2, 2))\n",
    "plt.imshow(val, cmap=\"hot\")\n",
    "plt.colorbar()"
   ]
  },
  {
   "cell_type": "markdown",
   "metadata": {},
   "source": [
    "### Conditional logic"
   ]
  },
  {
   "cell_type": "code",
   "execution_count": null,
   "metadata": {},
   "outputs": [],
   "source": [
    "a = np.array([4, 7, 5, -7, 9, 0])\n",
    "b = np.array([-1, 9, 8, 3, 3, 3])\n",
    "cond = np.array([True, True, False, True, False, False])\n",
    "res = np.where(cond, a, b)\n",
    "res\n",
    "res = np.where(a <= b, b, a)\n",
    "res"
   ]
  },
  {
   "cell_type": "markdown",
   "metadata": {},
   "source": [
    "### Conditional logic, examples"
   ]
  },
  {
   "cell_type": "code",
   "execution_count": null,
   "metadata": {},
   "outputs": [],
   "source": [
    "arr3\n",
    "res = np.where(arr3 < 5, 0, arr3)\n",
    "res\n",
    "even = np.where(arr3 % 2 == 0, arr3, arr3 + 1)\n",
    "even"
   ]
  },
  {
   "cell_type": "markdown",
   "metadata": {},
   "source": [
    "### Statistical methods"
   ]
  },
  {
   "cell_type": "code",
   "execution_count": null,
   "metadata": {},
   "outputs": [],
   "source": [
    "arr3\n",
    "arr3.mean()\n",
    "arr3.sum()\n",
    "arr3.argmin()"
   ]
  },
  {
   "cell_type": "markdown",
   "metadata": {},
   "source": [
    "### Axis"
   ]
  },
  {
   "cell_type": "code",
   "execution_count": null,
   "metadata": {},
   "outputs": [],
   "source": [
    "arr3\n",
    "arr3.sum(axis=0)\n",
    "arr3.sum(axis=1)"
   ]
  },
  {
   "cell_type": "markdown",
   "metadata": {},
   "source": [
    "### Sorting one-dimensional arrays"
   ]
  },
  {
   "cell_type": "code",
   "execution_count": null,
   "metadata": {},
   "outputs": [],
   "source": [
    "arr2\n",
    "arr2.sort()\n",
    "arr2"
   ]
  },
  {
   "cell_type": "markdown",
   "metadata": {},
   "source": [
    "### Sorting two-dimensional arrays"
   ]
  },
  {
   "cell_type": "code",
   "execution_count": null,
   "metadata": {},
   "outputs": [],
   "source": [
    "arr3\n",
    "arr3.sort()\n",
    "arr3\n",
    "arr3.sort(axis=0)\n",
    "arr3"
   ]
  },
  {
   "cell_type": "markdown",
   "metadata": {},
   "source": [
    "## Section 2.3\n",
    "## Linear algebra"
   ]
  },
  {
   "cell_type": "markdown",
   "metadata": {},
   "source": [
    "### Import numpy.linalg"
   ]
  },
  {
   "cell_type": "code",
   "execution_count": null,
   "metadata": {},
   "outputs": [],
   "source": [
    "import numpy.linalg as nplin"
   ]
  },
  {
   "cell_type": "markdown",
   "metadata": {},
   "source": [
    "### Inverse"
   ]
  },
  {
   "cell_type": "code",
   "execution_count": null,
   "metadata": {},
   "outputs": [],
   "source": [
    "inv = nplin.inv(arr3)\n",
    "inv\n",
    "np.allclose(np.identity(3), np.dot(inv, arr3))"
   ]
  },
  {
   "cell_type": "markdown",
   "metadata": {},
   "source": [
    "### Linear algebra functions"
   ]
  },
  {
   "cell_type": "code",
   "execution_count": null,
   "metadata": {},
   "outputs": [],
   "source": [
    "nplin.det(arr3)\n",
    "np.trace(arr3)\n",
    "np.diag(arr3)"
   ]
  },
  {
   "cell_type": "markdown",
   "metadata": {},
   "source": [
    "### Get eigenvalues and eigenvectors"
   ]
  },
  {
   "cell_type": "code",
   "execution_count": null,
   "metadata": {},
   "outputs": [],
   "source": [
    "A = np.array([[3, -1, 0], [2, 0, 0], [-2, 2, -1]])\n",
    "eigenval, eigenvec = nplin.eig(A)\n",
    "eigenval\n",
    "eigenvec"
   ]
  },
  {
   "cell_type": "markdown",
   "metadata": {},
   "source": [
    "### Check eigenvalues and eigenvectors"
   ]
  },
  {
   "cell_type": "code",
   "execution_count": null,
   "metadata": {},
   "outputs": [],
   "source": [
    "eigenval * eigenvec\n",
    "np.dot(A, eigenvec)"
   ]
  },
  {
   "cell_type": "markdown",
   "metadata": {},
   "source": [
    "### QR decomposition"
   ]
  },
  {
   "cell_type": "code",
   "execution_count": null,
   "metadata": {},
   "outputs": [],
   "source": [
    "Q, R = nplin.qr(arr3)\n",
    "Q\n",
    "R\n",
    "np.allclose(arr3, np.dot(Q, R))"
   ]
  },
  {
   "cell_type": "markdown",
   "metadata": {},
   "source": [
    "### Solve linearsystems"
   ]
  },
  {
   "cell_type": "code",
   "execution_count": null,
   "metadata": {},
   "outputs": [],
   "source": [
    "b = np.array([7, 4, 8])\n",
    "x = nplin.solve(A, b)\n",
    "x\n",
    "np.allclose(np.dot(A, x), b)"
   ]
  }
 ],
 "metadata": {
  "kernelspec": {
   "display_name": "Python 3",
   "language": "python",
   "name": "python3"
  },
  "language_info": {
   "codemirror_mode": {
    "name": "ipython",
    "version": 3
   },
   "file_extension": ".py",
   "mimetype": "text/x-python",
   "name": "python",
   "nbconvert_exporter": "python",
   "pygments_lexer": "ipython3",
   "version": "3.11.9"
  }
 },
 "nbformat": 4,
 "nbformat_minor": 2
}
