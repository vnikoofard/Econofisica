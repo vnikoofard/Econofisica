{
 "cells": [
  {
   "cell_type": "code",
   "execution_count": 1,
   "metadata": {},
   "outputs": [],
   "source": [
    "import numpy as np\n",
    "import pandas as pd\n",
    "import torch\n",
    "import torch.nn as nn\n",
    "from sklearn.preprocessing import MinMaxScaler\n",
    "from torch.utils.data import DataLoader, Dataset\n",
    "import yfinance as yf"
   ]
  },
  {
   "cell_type": "code",
   "execution_count": 2,
   "metadata": {},
   "outputs": [
    {
     "name": "stdout",
     "output_type": "stream",
     "text": [
      "cuda\n"
     ]
    }
   ],
   "source": [
    "device = torch.device(\"cuda\" if torch.cuda.is_available() else \"cpu\")\n",
    "print(device)"
   ]
  },
  {
   "cell_type": "code",
   "execution_count": 3,
   "metadata": {},
   "outputs": [
    {
     "name": "stderr",
     "output_type": "stream",
     "text": [
      "[*********************100%***********************]  1 of 1 completed\n"
     ]
    },
    {
     "data": {
      "text/html": [
       "<div>\n",
       "<style scoped>\n",
       "    .dataframe tbody tr th:only-of-type {\n",
       "        vertical-align: middle;\n",
       "    }\n",
       "\n",
       "    .dataframe tbody tr th {\n",
       "        vertical-align: top;\n",
       "    }\n",
       "\n",
       "    .dataframe thead tr th {\n",
       "        text-align: left;\n",
       "    }\n",
       "\n",
       "    .dataframe thead tr:last-of-type th {\n",
       "        text-align: right;\n",
       "    }\n",
       "</style>\n",
       "<table border=\"1\" class=\"dataframe\">\n",
       "  <thead>\n",
       "    <tr>\n",
       "      <th>Price</th>\n",
       "      <th>Adj Close</th>\n",
       "      <th>Close</th>\n",
       "      <th>High</th>\n",
       "      <th>Low</th>\n",
       "      <th>Open</th>\n",
       "      <th>Volume</th>\n",
       "    </tr>\n",
       "    <tr>\n",
       "      <th>Ticker</th>\n",
       "      <th>PETR4.SA</th>\n",
       "      <th>PETR4.SA</th>\n",
       "      <th>PETR4.SA</th>\n",
       "      <th>PETR4.SA</th>\n",
       "      <th>PETR4.SA</th>\n",
       "      <th>PETR4.SA</th>\n",
       "    </tr>\n",
       "    <tr>\n",
       "      <th>Date</th>\n",
       "      <th></th>\n",
       "      <th></th>\n",
       "      <th></th>\n",
       "      <th></th>\n",
       "      <th></th>\n",
       "      <th></th>\n",
       "    </tr>\n",
       "  </thead>\n",
       "  <tbody>\n",
       "    <tr>\n",
       "      <th>2024-10-04 00:00:00+00:00</th>\n",
       "      <td>37.840000</td>\n",
       "      <td>37.840000</td>\n",
       "      <td>38.200001</td>\n",
       "      <td>37.669998</td>\n",
       "      <td>38.150002</td>\n",
       "      <td>22526800</td>\n",
       "    </tr>\n",
       "    <tr>\n",
       "      <th>2024-10-07 00:00:00+00:00</th>\n",
       "      <td>38.369999</td>\n",
       "      <td>38.369999</td>\n",
       "      <td>38.380001</td>\n",
       "      <td>37.900002</td>\n",
       "      <td>38.040001</td>\n",
       "      <td>36418000</td>\n",
       "    </tr>\n",
       "    <tr>\n",
       "      <th>2024-10-08 00:00:00+00:00</th>\n",
       "      <td>37.599998</td>\n",
       "      <td>37.599998</td>\n",
       "      <td>37.750000</td>\n",
       "      <td>37.450001</td>\n",
       "      <td>37.470001</td>\n",
       "      <td>34142000</td>\n",
       "    </tr>\n",
       "    <tr>\n",
       "      <th>2024-10-09 00:00:00+00:00</th>\n",
       "      <td>37.220001</td>\n",
       "      <td>37.220001</td>\n",
       "      <td>37.520000</td>\n",
       "      <td>37.009998</td>\n",
       "      <td>37.369999</td>\n",
       "      <td>30789800</td>\n",
       "    </tr>\n",
       "    <tr>\n",
       "      <th>2024-10-10 00:00:00+00:00</th>\n",
       "      <td>37.650002</td>\n",
       "      <td>37.650002</td>\n",
       "      <td>37.740002</td>\n",
       "      <td>37.320000</td>\n",
       "      <td>37.400002</td>\n",
       "      <td>20630100</td>\n",
       "    </tr>\n",
       "  </tbody>\n",
       "</table>\n",
       "</div>"
      ],
      "text/plain": [
       "Price                      Adj Close      Close       High        Low  \\\n",
       "Ticker                      PETR4.SA   PETR4.SA   PETR4.SA   PETR4.SA   \n",
       "Date                                                                    \n",
       "2024-10-04 00:00:00+00:00  37.840000  37.840000  38.200001  37.669998   \n",
       "2024-10-07 00:00:00+00:00  38.369999  38.369999  38.380001  37.900002   \n",
       "2024-10-08 00:00:00+00:00  37.599998  37.599998  37.750000  37.450001   \n",
       "2024-10-09 00:00:00+00:00  37.220001  37.220001  37.520000  37.009998   \n",
       "2024-10-10 00:00:00+00:00  37.650002  37.650002  37.740002  37.320000   \n",
       "\n",
       "Price                           Open    Volume  \n",
       "Ticker                      PETR4.SA  PETR4.SA  \n",
       "Date                                            \n",
       "2024-10-04 00:00:00+00:00  38.150002  22526800  \n",
       "2024-10-07 00:00:00+00:00  38.040001  36418000  \n",
       "2024-10-08 00:00:00+00:00  37.470001  34142000  \n",
       "2024-10-09 00:00:00+00:00  37.369999  30789800  \n",
       "2024-10-10 00:00:00+00:00  37.400002  20630100  "
      ]
     },
     "execution_count": 3,
     "metadata": {},
     "output_type": "execute_result"
    }
   ],
   "source": [
    "df = yf.download(\"PETR4.SA\", start=\"2010-01-01\", end=\"2024-10-11\")\n",
    "df.tail()"
   ]
  },
  {
   "cell_type": "code",
   "execution_count": 4,
   "metadata": {},
   "outputs": [],
   "source": [
    "data = df['Adj Close'].values #.reshape(-1, 1)"
   ]
  },
  {
   "cell_type": "code",
   "execution_count": 5,
   "metadata": {},
   "outputs": [],
   "source": [
    "# Step 1: Data Preprocessing\n",
    "scaler = MinMaxScaler(feature_range=(0, 1))\n",
    "scaled_data = scaler.fit_transform(data)\n"
   ]
  },
  {
   "cell_type": "code",
   "execution_count": 6,
   "metadata": {},
   "outputs": [],
   "source": [
    "window_size = 35\n",
    "horizen = 14\n",
    "\n",
    "\n",
    "# Function to create sequences\n",
    "def create_sequences(data, window_size, horizen):\n",
    "    X, y = [], []\n",
    "    for i in range(len(data) - window_size - horizen):\n",
    "        X.append(data[i:i + window_size])\n",
    "        y.append(data[i + window_size] < data[i + window_size + horizen])\n",
    "    return np.array(X), np.array(y)\n",
    "\n",
    "X, y = create_sequences(scaled_data, window_size, horizen)\n",
    "\n",
    "\n",
    "\n",
    "# Convert to PyTorch tensors\n",
    "X = torch.tensor(X, dtype=torch.float32)\n",
    "y = torch.tensor(y, dtype=torch.float32)\n"
   ]
  },
  {
   "cell_type": "code",
   "execution_count": 7,
   "metadata": {},
   "outputs": [
    {
     "name": "stdout",
     "output_type": "stream",
     "text": [
      "Shape of the train data torch.Size([2897, 35, 1])\n",
      "Shape of the test data torch.Size([725, 35, 1])\n"
     ]
    }
   ],
   "source": [
    "# Split into train and test\n",
    "train_split = 0.8\n",
    "y_train = y[: int(train_split * y.shape[0])]\n",
    "y_test = y[int(train_split * y.shape[0]) :]\n",
    "\n",
    "X_train = X[: int(train_split * y.shape[0])]\n",
    "X_test = X[int(train_split * y.shape[0]) :]\n",
    "\n",
    "print(f'Shape of the train data {X_train.shape}')\n",
    "print(f'Shape of the test data {X_test.shape}')"
   ]
  },
  {
   "cell_type": "code",
   "execution_count": 8,
   "metadata": {},
   "outputs": [],
   "source": [
    "\n",
    "# Step 2: Create Dataset and DataLoader\n",
    "class TimeSeriesDataset(Dataset):\n",
    "    def __init__(self, X, y):\n",
    "        self.X = X\n",
    "        self.y = y\n",
    "\n",
    "    def __len__(self):\n",
    "        return len(self.X)\n",
    "\n",
    "    def __getitem__(self, idx):\n",
    "        return self.X[idx], self.y[idx]\n",
    "\n",
    "BATCH_SIZE = 32\n",
    "\n",
    "train_dataset = TimeSeriesDataset(X_train, y_train)\n",
    "test_dataset = TimeSeriesDataset(X_test, y_test)\n",
    "\n",
    "train_loader = DataLoader(train_dataset, batch_size=BATCH_SIZE, shuffle=True)\n",
    "test_loader = DataLoader(test_dataset, batch_size=BATCH_SIZE, shuffle=False)\n",
    "\n",
    "# vamos usar estes numeros mais adiante para calcular a acuracia\n",
    "test_N = len(test_loader.dataset)\n",
    "train_N = len(train_loader.dataset)"
   ]
  },
  {
   "cell_type": "code",
   "execution_count": 9,
   "metadata": {},
   "outputs": [
    {
     "data": {
      "text/plain": [
       "torch.Size([32, 35, 1])"
      ]
     },
     "execution_count": 9,
     "metadata": {},
     "output_type": "execute_result"
    }
   ],
   "source": [
    "next(iter(train_loader))[0].shape"
   ]
  },
  {
   "cell_type": "code",
   "execution_count": 10,
   "metadata": {},
   "outputs": [],
   "source": [
    "# Model parameters\n",
    "input_size = 1       # Input feature size\n",
    "hidden_size = 50     # LSTM hidden state size\n",
    "num_layers = 2       # Number of LSTM layers\n",
    "output_size = 1      # Output size (for binary classification)\n",
    "seq_length = window_size   # Length of the input sequence\n",
    "\n",
    "# Define the custom model\n",
    "class LSTMModel(nn.Module):\n",
    "    def __init__(self, input_size, hidden_size, num_layers, output_size, seq_length):\n",
    "        super(LSTMModel, self).__init__()\n",
    "        self.lstm = nn.LSTM(input_size, hidden_size, num_layers, batch_first=True)\n",
    "        self.flatten = nn.Flatten(start_dim=1)\n",
    "        self.fc1 = nn.Linear(hidden_size * seq_length, 128)\n",
    "        self.relu = nn.ReLU()\n",
    "        self.dropout = nn.Dropout(0.3)\n",
    "        self.fc2 = nn.Linear(128, output_size)\n",
    "        self.sigmoid = nn.Sigmoid()\n",
    "\n",
    "    def forward(self, x):\n",
    "        lstm_out, _ = self.lstm(x)\n",
    "        x = self.flatten(lstm_out)\n",
    "        x = self.fc1(x)\n",
    "        x = self.relu(x)\n",
    "        x = self.dropout(x)\n",
    "        x = self.fc2(x)\n",
    "        x = self.sigmoid(x)\n",
    "        return x\n",
    "\n",
    "# Instantiate the model\n",
    "model = LSTMModel(input_size, hidden_size, num_layers, output_size, seq_length)\n",
    "\n",
    "# Move the model to the device\n",
    "model = model.to(device)\n"
   ]
  },
  {
   "cell_type": "code",
   "execution_count": 11,
   "metadata": {},
   "outputs": [],
   "source": [
    "def get_batch_accuracy(output, y, N):\n",
    "    pred = (output > 0.5).float()\n",
    "    correct = pred.eq(y.view_as(pred)).sum().item()\n",
    "    return correct / N"
   ]
  },
  {
   "cell_type": "code",
   "execution_count": 12,
   "metadata": {},
   "outputs": [
    {
     "name": "stdout",
     "output_type": "stream",
     "text": [
      "{0: tensor(2.1161), 1: 1.0}\n"
     ]
    }
   ],
   "source": [
    "\n",
    "class_weight = {0: 1 / (1 - torch.mean(y_train)), 1: 1.0}\n",
    "print(class_weight)\n",
    "pos_weight = torch.tensor([class_weight[0]], dtype=torch.float32).to(device)\n",
    "loss_fn = nn.BCEWithLogitsLoss(pos_weight=pos_weight)\n",
    "optimizer = torch.optim.Adam(model.parameters(), lr=0.001)"
   ]
  },
  {
   "cell_type": "code",
   "execution_count": 14,
   "metadata": {},
   "outputs": [
    {
     "name": "stdout",
     "output_type": "stream",
     "text": [
      "Train - Loss: 0.8007 Accuracy: 0.5285\n",
      "Train - Loss: 1.0260 Accuracy: 0.5274\n",
      "Train - Loss: 0.8542 Accuracy: 0.5274\n",
      "Train - Loss: 1.1220 Accuracy: 0.5274\n",
      "Train - Loss: 0.8542 Accuracy: 0.5274\n",
      "Train - Loss: 0.9307 Accuracy: 0.5274\n",
      "Train - Loss: 0.8924 Accuracy: 0.5274\n",
      "Train - Loss: 0.9690 Accuracy: 0.5274\n",
      "Train - Loss: 0.9690 Accuracy: 0.5274\n",
      "Train - Loss: 0.8924 Accuracy: 0.5274\n"
     ]
    }
   ],
   "source": [
    "\n",
    "\n",
    "# Step 5: Training the Model\n",
    "num_epochs = 100\n",
    "\n",
    "for epoch in range(num_epochs):\n",
    "    accuracy = 0\n",
    "\n",
    "    for batch_X, batch_y in train_loader:\n",
    "        batch_X, batch_y = batch_X.to(device), batch_y.to(device)\n",
    "\n",
    "        # Forward pass\n",
    "        outputs = model(batch_X)\n",
    "        loss = loss_fn(outputs, batch_y)\n",
    "\n",
    "        # Backward pass and optimization\n",
    "        optimizer.zero_grad()\n",
    "        loss.backward()\n",
    "        optimizer.step()\n",
    "        accuracy += get_batch_accuracy(outputs, batch_y, len(train_loader.dataset))\n",
    "    \n",
    "\n",
    "    if (epoch+1) % 10 == 0:\n",
    "        print('Train - Loss: {:.4f} Accuracy: {:.4f}'.format(loss, accuracy))\n",
    "\n",
    "\n"
   ]
  },
  {
   "cell_type": "code",
   "execution_count": 15,
   "metadata": {},
   "outputs": [
    {
     "name": "stdout",
     "output_type": "stream",
     "text": [
      "              precision    recall  f1-score   support\n",
      "\n",
      "         0.0       0.36      0.51      0.42       264\n",
      "         1.0       0.63      0.48      0.55       461\n",
      "\n",
      "    accuracy                           0.49       725\n",
      "   macro avg       0.50      0.50      0.48       725\n",
      "weighted avg       0.53      0.49      0.50       725\n",
      "\n",
      "Accuracy: 0.4924\n",
      "Precision: 0.6325\n",
      "Recall: 0.4816\n",
      "F1 Score: 0.5468\n"
     ]
    },
    {
     "data": {
      "image/png": "[encoded data removed]",
      "text/plain": [
       "<Figure size 640x480 with 2 Axes>"
      ]
     },
     "metadata": {},
     "output_type": "display_data"
    }
   ],
   "source": [
    "from sklearn import metrics\n",
    "from sklearn.metrics import classification_report, ConfusionMatrixDisplay\n",
    "import numpy as np\n",
    "\n",
    "# Assuming you have a test DataLoader `test_loader`\n",
    "y_true = []\n",
    "y_prob = []\n",
    "\n",
    "model.eval()\n",
    "with torch.no_grad():\n",
    "    for x_batch, y_batch in test_loader:\n",
    "        x_batch = x_batch.to(device)\n",
    "        \n",
    "        # Forward pass\n",
    "        outputs = model(x_batch).squeeze()\n",
    "        y_prob.extend(outputs.cpu().numpy())\n",
    "        y_true.extend(y_batch.cpu().numpy())\n",
    "\n",
    "# Convert to numpy arrays\n",
    "y_prob = np.array(y_prob)\n",
    "y_true = np.array(y_true)\n",
    "\n",
    "# Apply threshold to convert probabilities to binary predictions (0 or 1)\n",
    "y_pred = np.round(y_prob)\n",
    "\n",
    "# Generate and display the confusion matrix\n",
    "cm = metrics.confusion_matrix(y_true, y_pred)\n",
    "cm_display = ConfusionMatrixDisplay(confusion_matrix=cm, display_labels=[\"Down\", \"Up\"])\n",
    "cm_display.plot(values_format=\"\", cmap=\"Blues\")\n",
    "\n",
    "# Print the classification report\n",
    "print(classification_report(y_true, y_pred))\n",
    "\n",
    "# Additional metrics\n",
    "accuracy = metrics.accuracy_score(y_true, y_pred)\n",
    "precision = metrics.precision_score(y_true, y_pred)\n",
    "recall = metrics.recall_score(y_true, y_pred)\n",
    "f1 = metrics.f1_score(y_true, y_pred)\n",
    "\n",
    "print(f\"Accuracy: {accuracy:.4f}\")\n",
    "print(f\"Precision: {precision:.4f}\")\n",
    "print(f\"Recall: {recall:.4f}\")\n",
    "print(f\"F1 Score: {f1:.4f}\")\n"
   ]
  }
 ],
 "metadata": {
  "kernelspec": {
   "display_name": "base",
   "language": "python",
   "name": "python3"
  },
  "language_info": {
   "codemirror_mode": {
    "name": "ipython",
    "version": 3
   },
   "file_extension": ".py",
   "mimetype": "text/x-python",
   "name": "python",
   "nbconvert_exporter": "python",
   "pygments_lexer": "ipython3",
   "version": "3.11.10"
  }
 },
 "nbformat": 4,
 "nbformat_minor": 2
}
