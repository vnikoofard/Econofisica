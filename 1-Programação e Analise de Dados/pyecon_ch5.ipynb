{
 "cells": [
  {
   "cell_type": "markdown",
   "metadata": {},
   "source": [
    "# Chapter 5\n",
    "# Applications\n",
    "_Version: February 14, 2022, see_ [PyEcon.org](https://pyecon.org).\n",
    "\n",
    "In this chapter, we see some more advanced applications of the covered topics and their combinations:\n",
    "- Further time series,\n",
    "- Financial applications,\n",
    "- Nonlinear optimization methods."
   ]
  },
  {
   "cell_type": "markdown",
   "metadata": {},
   "source": [
    "## Section 5.1\n",
    "## Time series"
   ]
  },
  {
   "cell_type": "markdown",
   "metadata": {},
   "source": [
    "### Datetime creation"
   ]
  },
  {
   "cell_type": "code",
   "execution_count": null,
   "metadata": {},
   "outputs": [],
   "source": [
    "from datetime import datetime\n",
    "now = datetime.now()\n",
    "now\n",
    "now.day\n",
    "now.hour"
   ]
  },
  {
   "cell_type": "markdown",
   "metadata": {},
   "source": [
    "### Datetime representation"
   ]
  },
  {
   "cell_type": "code",
   "execution_count": null,
   "metadata": {},
   "outputs": [],
   "source": [
    "holiday = datetime(2020, 12, 24, 8, 30)\n",
    "holiday\n",
    "exam = datetime(2020, 12, 9, 10)\n",
    "print(\"The exam will be on the \" + \"{:%Y-%m-%d}\".format(exam))"
   ]
  },
  {
   "cell_type": "markdown",
   "metadata": {},
   "source": [
    "### Datetime difference"
   ]
  },
  {
   "cell_type": "code",
   "execution_count": null,
   "metadata": {},
   "outputs": [],
   "source": [
    "from datetime import timedelta\n",
    "delta = exam - now\n",
    "delta\n",
    "print(\"The exam will take place in \" + str(delta.days) + \" days.\")\n",
    "now\n",
    "now + timedelta(10, 120)"
   ]
  },
  {
   "cell_type": "markdown",
   "metadata": {},
   "source": [
    "### Convert Datetime"
   ]
  },
  {
   "cell_type": "code",
   "execution_count": null,
   "metadata": {},
   "outputs": [],
   "source": [
    "stamp = datetime(2020, 4, 12)\n",
    "stamp\n",
    "print(\"German date format: \" + stamp.strftime(\"%d.%m.%Y\"))\n",
    "val = \"2020-5-5\"\n",
    "d = datetime.strptime(val, \"%Y-%m-%d\")\n",
    "d"
   ]
  },
  {
   "cell_type": "markdown",
   "metadata": {},
   "source": [
    "### Converting examples"
   ]
  },
  {
   "cell_type": "code",
   "execution_count": null,
   "metadata": {},
   "outputs": [],
   "source": [
    "val = \"31.01.2012\"\n",
    "d = datetime.strptime(val, \"%d.%m.%Y\")\n",
    "d\n",
    "now.strftime(\"Today is %A and we are in week %W of the year %Y.\")\n",
    "now.strftime(\"%c\")"
   ]
  },
  {
   "cell_type": "markdown",
   "metadata": {},
   "source": [
    "### Date ranges"
   ]
  },
  {
   "cell_type": "code",
   "execution_count": null,
   "metadata": {},
   "outputs": [],
   "source": [
    "import pandas as pd\n",
    "index = pd.date_range(\"2020-01-01\", now)\n",
    "index[0:2]\n",
    "index[15:16]\n",
    "index = pd.date_range(\"2020-01-01\", now, freq=\"M\")\n",
    "index[0:2]"
   ]
  },
  {
   "cell_type": "markdown",
   "metadata": {},
   "source": [
    "### Resample date ranges"
   ]
  },
  {
   "cell_type": "code",
   "execution_count": null,
   "metadata": {},
   "outputs": [],
   "source": [
    "import numpy as np\n",
    "start = datetime(2016, 1, 1)\n",
    "ind = pd.date_range(start, now)\n",
    "numbers = np.arange((now - start).days + 1)\n",
    "df = pd.DataFrame(numbers, index=ind)"
   ]
  },
  {
   "cell_type": "markdown",
   "metadata": {},
   "source": [
    "## Section 5.2\n",
    "## Moving window"
   ]
  },
  {
   "cell_type": "markdown",
   "metadata": {},
   "source": [
    "### Rolling mean"
   ]
  },
  {
   "cell_type": "code",
   "execution_count": null,
   "metadata": {},
   "outputs": [],
   "source": [
    "import matplotlib.pyplot as plt\n",
    "amazon = pd.read_csv(\"data/amzn.csv\", index_col=0,\n",
    "                     parse_dates=True)[\"Adj Close\"]\n",
    "fig = plt.figure(figsize=(16, 8))\n",
    "ax = fig.add_subplot(1, 1, 1)\n",
    "ax.set_ylabel(\"price\")\n",
    "amazon.plot(ax=ax, label=\"Amazon\")\n",
    "amazon.rolling(window=20).mean().plot(ax=ax, label=\"Rolling mean\")\n",
    "ax.legend(loc=\"best\")\n",
    "ax.set_title(\"Amazon price and rolling mean\", fontsize=25)\n",
    "fig.savefig(\"out/amzn.pdf\")"
   ]
  },
  {
   "cell_type": "markdown",
   "metadata": {},
   "source": [
    "### Standard deviation"
   ]
  },
  {
   "cell_type": "code",
   "execution_count": null,
   "metadata": {},
   "outputs": [],
   "source": [
    "fig = plt.figure(figsize=(16, 8))\n",
    "ax = fig.add_subplot(1, 1, 1)\n",
    "pfizer = pd.read_csv(\"data/pfe.csv\", index_col=0,\n",
    "                     parse_dates=True)[\"Adj Close\"]\n",
    "pg = pd.read_csv(\"data/pg.csv\", index_col=0,\n",
    "                 parse_dates=True)[\"Adj Close\"]\n",
    "prices = pd.DataFrame(index=amazon.index)\n",
    "prices[\"amazon\"] = pd.DataFrame(amazon)\n",
    "prices[\"pfizer\"] = pd.DataFrame(pfizer)\n",
    "prices[\"pg\"] = pd.DataFrame(pg)\n",
    "prices_std = prices.rolling(window=20).std()\n",
    "prices_std.plot(ax=ax)\n",
    "ax.set_title(\"Standard deviation\", fontsize=25)\n",
    "fig.savefig(\"out/std.pdf\")"
   ]
  },
  {
   "cell_type": "markdown",
   "metadata": {},
   "source": [
    "### Logarithmic standard deviation"
   ]
  },
  {
   "cell_type": "code",
   "execution_count": null,
   "metadata": {},
   "outputs": [],
   "source": [
    "fig = plt.figure(figsize=(16, 8))\n",
    "ax = fig.add_subplot(1, 1, 1)\n",
    "prices_std.plot(ax=ax, logy=True)\n",
    "ax.set_title(\"Logarithmic standard deviation\", fontsize=25)\n",
    "fig.savefig(\"out/std_log.pdf\")"
   ]
  },
  {
   "cell_type": "markdown",
   "metadata": {},
   "source": [
    "### Exponentially weighted functions"
   ]
  },
  {
   "cell_type": "code",
   "execution_count": null,
   "metadata": {},
   "outputs": [],
   "source": [
    "fig = plt.figure(figsize=(16, 8))\n",
    "ax = fig.add_subplot(1, 1, 1)\n",
    "amazon.rolling(window=40).mean().plot(ax=ax, label=\"Rolling mean\")\n",
    "amazon.ewm(span=40).mean().plot(ax=ax, label=\"Exp mean\",\n",
    "                                linestyle=\"--\", color=\"red\")\n",
    "amazon.plot(ax=ax, label=\"Amazon price\")\n",
    "ax.legend(loc=\"best\")\n",
    "ax.set_title(\"Exponentially weighted functions\", fontsize=25)\n",
    "fig.savefig(\"out/mean.pdf\")"
   ]
  },
  {
   "cell_type": "markdown",
   "metadata": {},
   "source": [
    "### Percentage change"
   ]
  },
  {
   "cell_type": "code",
   "execution_count": null,
   "metadata": {},
   "outputs": [],
   "source": [
    "fig = plt.figure(figsize=(16, 8))\n",
    "ax = fig.add_subplot(1, 1, 1)\n",
    "returns = prices.pct_change()\n",
    "returns.head()\n",
    "returns.plot(ax=ax)\n",
    "ax.set_title(\"Returns\", fontsize=25)\n",
    "fig.savefig(\"out/returns.pdf\")"
   ]
  },
  {
   "cell_type": "markdown",
   "metadata": {},
   "source": [
    "### Correlation"
   ]
  },
  {
   "cell_type": "code",
   "execution_count": null,
   "metadata": {},
   "outputs": [],
   "source": [
    "fig = plt.figure(figsize=(16, 8))\n",
    "ax = fig.add_subplot(1, 1, 1)\n",
    "DJI = pd.read_csv(\"data/dji.csv\", index_col=0,\n",
    "                  parse_dates=True)[\"Adj Close\"]\n",
    "DJI_ret = DJI.pct_change()\n",
    "corr = returns.rolling(window=20).corr(DJI_ret)\n",
    "corr.plot(ax=ax)\n",
    "ax.grid()\n",
    "ax.set_title(\"20 days correlation\", fontsize=25)\n",
    "fig.savefig(\"out/corr.pdf\")"
   ]
  },
  {
   "cell_type": "markdown",
   "metadata": {},
   "source": [
    "## Section 5.3\n",
    "## Financial applications"
   ]
  },
  {
   "cell_type": "markdown",
   "metadata": {},
   "source": [
    "### Returns"
   ]
  },
  {
   "cell_type": "code",
   "execution_count": null,
   "metadata": {},
   "outputs": [],
   "source": [
    "fig = plt.figure(figsize=(16, 8))\n",
    "ax = fig.add_subplot(1, 1, 1)\n",
    "ret_index = (1 + returns).cumprod()\n",
    "stocks = [\"amazon\", \"pfizer\", \"pg\"]\n",
    "for i in stocks:\n",
    "    ret_index[i][0] = 1\n",
    "ret_index.tail()\n",
    "ret_index.plot(ax=ax)\n",
    "ax.set_title(\"Cumulative returns\", fontsize=25)\n",
    "fig.savefig(\"out/cumret.pdf\")"
   ]
  },
  {
   "cell_type": "markdown",
   "metadata": {},
   "source": [
    "### Monthly returns"
   ]
  },
  {
   "cell_type": "code",
   "execution_count": null,
   "metadata": {},
   "outputs": [],
   "source": [
    "returns_m = ret_index.resample(\"BM\").last().pct_change()\n",
    "returns_m.head()"
   ]
  },
  {
   "cell_type": "markdown",
   "metadata": {},
   "source": [
    "### Volatility"
   ]
  },
  {
   "cell_type": "code",
   "execution_count": null,
   "metadata": {},
   "outputs": [],
   "source": [
    "fig = plt.figure(figsize=(16, 8))\n",
    "ax = fig.add_subplot(1, 1, 1)\n",
    "vola = returns.rolling(window=20).std() * np.sqrt(20)\n",
    "vola.plot(ax=ax)\n",
    "ax.set_title(\"Volatility\", fontsize=25)\n",
    "fig.savefig(\"out/vola.pdf\")"
   ]
  },
  {
   "cell_type": "markdown",
   "metadata": {},
   "source": [
    "### Describe"
   ]
  },
  {
   "cell_type": "code",
   "execution_count": null,
   "metadata": {},
   "outputs": [],
   "source": [
    "prices.describe()"
   ]
  },
  {
   "cell_type": "markdown",
   "metadata": {},
   "source": [
    "### Histogram"
   ]
  },
  {
   "cell_type": "code",
   "execution_count": null,
   "metadata": {},
   "outputs": [],
   "source": [
    "fig, ax = plt.subplots(3, 1, figsize=(10, 8), sharex=True)\n",
    "for i in range(3):\n",
    "    ax[i].set_title(stocks[i])\n",
    "    returns[stocks[i]].hist(ax=ax[i], bins=50)\n",
    "fig.savefig(\"out/return_hist.pdf\")"
   ]
  },
  {
   "cell_type": "markdown",
   "metadata": {},
   "source": [
    "### Regression data"
   ]
  },
  {
   "cell_type": "code",
   "execution_count": null,
   "metadata": {},
   "outputs": [],
   "source": [
    "import statsmodels.api as sm\n",
    "\n",
    "fig = plt.figure(figsize=(16, 8))\n",
    "ax = fig.add_subplot(1, 1, 1)\n",
    "Y = np.array(amazon.loc[\"2018-1-1\":\"2018-1-15\"].tolist())\n",
    "X = np.arange(len(Y))\n",
    "ax.scatter(x=X, y=Y, marker=\"o\", color=\"red\")\n",
    "fig.savefig(\"out/reg_data.pdf\")"
   ]
  },
  {
   "cell_type": "markdown",
   "metadata": {},
   "source": [
    "### Regression"
   ]
  },
  {
   "cell_type": "code",
   "execution_count": null,
   "metadata": {},
   "outputs": [],
   "source": [
    "X_reg = sm.add_constant(X)\n",
    "res = sm.OLS(Y, X_reg).fit()\n",
    "b, a = res.params\n",
    "ax.plot(X, a * X + b)\n",
    "fig.savefig(\"out/ols.pdf\")"
   ]
  },
  {
   "cell_type": "markdown",
   "metadata": {},
   "source": [
    "## Section 5.4\n",
    "## Optimization"
   ]
  },
  {
   "cell_type": "markdown",
   "metadata": {},
   "source": [
    "### Newton-Raphson requirements"
   ]
  },
  {
   "cell_type": "code",
   "execution_count": null,
   "metadata": {},
   "outputs": [],
   "source": [
    "def f(x):\n",
    "    return 3 * x**3 + 3 * x**2 - 5 * x\n",
    "\n",
    "\n",
    "def df(x):\n",
    "    return 9 * x**2 + 6 * x - 5"
   ]
  },
  {
   "cell_type": "markdown",
   "metadata": {},
   "source": [
    "### Newton-Raphson"
   ]
  },
  {
   "cell_type": "code",
   "execution_count": null,
   "metadata": {},
   "outputs": [],
   "source": [
    "def newton_raphson(fun, dfun, x0, e):\n",
    "    delta = abs(fun(x0))\n",
    "    while delta > e:\n",
    "        ax.scatter(x0, f(x0), color=\"red\", s=80)\n",
    "        x0 = x0 - fun(x0) / dfun(x0)\n",
    "        delta = abs(fun(x0))\n",
    "    ax.scatter(x0, f(x0), color=\"black\", s=80)\n",
    "    return(x0)\n",
    "\n",
    "fig = plt.figure(figsize=(16, 8))\n",
    "ax = fig.add_subplot(1, 1, 1)\n",
    "x = np.arange(-1.5, 1.7, 0.001)\n",
    "ax.plot(x, f(x))\n",
    "ax.grid()\n",
    "x_root = newton_raphson(f, df, -1, 0.1)\n",
    "fig.savefig(\"out/newton_raphson_root.pdf\")\n",
    "print(f\"Root at: {x_root:.4f}\")"
   ]
  },
  {
   "cell_type": "markdown",
   "metadata": {},
   "source": [
    "### Newton-Raphson"
   ]
  },
  {
   "cell_type": "code",
   "execution_count": null,
   "metadata": {},
   "outputs": [],
   "source": [
    "def ddf(x):\n",
    "    return 18 * x + 6\n",
    "\n",
    "fig = plt.figure(figsize=(16, 8))\n",
    "ax = fig.add_subplot(1, 1, 1)\n",
    "x = np.arange(-1.5, 1.7, 0.001)\n",
    "ax.plot(x, f(x))\n",
    "ax.grid()\n",
    "x_opt = newton_raphson(df, ddf, 1, 0.1)\n",
    "fig.savefig(\"out/newton_raphson_optimum.pdf\")\n",
    "print(f\"Minimum at: {x_opt:.4f}\")"
   ]
  },
  {
   "cell_type": "markdown",
   "metadata": {},
   "source": [
    "### Import minimize"
   ]
  },
  {
   "cell_type": "code",
   "execution_count": null,
   "metadata": {},
   "outputs": [],
   "source": [
    "from scipy.optimize import minimize"
   ]
  },
  {
   "cell_type": "markdown",
   "metadata": {},
   "source": [
    "### 1D optimization using minimize"
   ]
  },
  {
   "cell_type": "code",
   "execution_count": null,
   "metadata": {},
   "outputs": [],
   "source": [
    "def f(x):\n",
    "    return (x - 4)**2 + 3\n",
    "\n",
    "x0 = [1]  # the initial guess\n",
    "result = minimize(f, x0)\n",
    "result"
   ]
  },
  {
   "cell_type": "markdown",
   "metadata": {},
   "source": [
    "### 1D optimization using minimize"
   ]
  },
  {
   "cell_type": "code",
   "execution_count": null,
   "metadata": {},
   "outputs": [],
   "source": [
    "min_y = result.fun  # get minimum of the function f\n",
    "min_x = result.x  # get the x value of the minimum\n",
    "\n",
    "fig = plt.figure(figsize=(16, 8))\n",
    "ax = fig.add_subplot(1, 1, 1)\n",
    "x = np.arange(1, 7, 0.001)\n",
    "ax.plot(x, f(x))\n",
    "ax.scatter(min_x, min_y, color=\"red\", s=120)\n",
    "fig.savefig(\"out/minimize_1D.pdf\")"
   ]
  },
  {
   "cell_type": "markdown",
   "metadata": {},
   "source": [
    "### 2D optimization using minimize"
   ]
  },
  {
   "cell_type": "code",
   "execution_count": null,
   "metadata": {},
   "outputs": [],
   "source": [
    "def f(x):\n",
    "    return (x[0] - 1)**2 + (x[1] - 2.5)**2\n",
    "\n",
    "x0 = [0, 0]  # the initial guess\n",
    "result = minimize(f, x0)\n",
    "result"
   ]
  },
  {
   "cell_type": "markdown",
   "metadata": {},
   "source": [
    "### Comparison"
   ]
  },
  {
   "cell_type": "code",
   "execution_count": null,
   "metadata": {},
   "outputs": [],
   "source": [
    "def rosen(x):\n",
    "    return (1 - x[0])**2 + 100 * (x[1] - x[0]**2)**2\n",
    "\n",
    "x0 = [1.3, 0.4]  # random initial guess\n",
    "\n",
    "res_1 = minimize(rosen, x0, method=\"Nelder-Mead\")\n",
    "res_2 = minimize(rosen, x0, method=\"Powell\")\n",
    "res_3 = minimize(rosen, x0, method=\"CG\")\n",
    "res_4 = minimize(rosen, x0, method=\"BFGS\")"
   ]
  },
  {
   "cell_type": "markdown",
   "metadata": {},
   "source": [
    "### Comparison results"
   ]
  },
  {
   "cell_type": "code",
   "execution_count": null,
   "metadata": {},
   "outputs": [],
   "source": [
    "# The perfect solution would be (1, 1)\n",
    "\n",
    "res_1.x\n",
    "res_2.x\n",
    "res_3.x\n",
    "res_4.x"
   ]
  },
  {
   "cell_type": "markdown",
   "metadata": {},
   "source": [
    "### Tin can optimization"
   ]
  },
  {
   "cell_type": "code",
   "execution_count": null,
   "metadata": {},
   "outputs": [],
   "source": [
    "def s(x):\n",
    "    r = x[0]\n",
    "    h = x[1]\n",
    "    return 2 * np.pi * r * (r + h)\n",
    "\n",
    "\n",
    "def v(x):\n",
    "    r = x[0]\n",
    "    h = x[1]\n",
    "    return np.pi * r**2 * h - 500  # as it is compared to zero"
   ]
  },
  {
   "cell_type": "markdown",
   "metadata": {},
   "source": [
    "### Constraints"
   ]
  },
  {
   "cell_type": "code",
   "execution_count": null,
   "metadata": {},
   "outputs": [],
   "source": [
    "con = {\"type\": \"eq\", \"fun\": v}"
   ]
  },
  {
   "cell_type": "markdown",
   "metadata": {},
   "source": [
    "### Tin can optimization"
   ]
  },
  {
   "cell_type": "code",
   "execution_count": null,
   "metadata": {},
   "outputs": [],
   "source": [
    "x0 = [1, 1]\n",
    "result = minimize(s, x0, method=\"SLSQP\", constraints=con)\n",
    "result\n",
    "x = result.x"
   ]
  },
  {
   "cell_type": "markdown",
   "metadata": {},
   "source": [
    "### Tin can optimization result"
   ]
  },
  {
   "cell_type": "code",
   "execution_count": null,
   "metadata": {},
   "outputs": [],
   "source": [
    "r, h = x\n",
    "r\n",
    "h\n",
    "np.pi * r**2 * h\n",
    "s(x)"
   ]
  }
 ],
 "metadata": {
  "kernelspec": {
   "display_name": "Python 3",
   "language": "python",
   "name": "python3"
  },
  "language_info": {
   "codemirror_mode": {
    "name": "ipython",
    "version": 3
   },
   "file_extension": ".py",
   "mimetype": "text/x-python",
   "name": "python",
   "nbconvert_exporter": "python",
   "pygments_lexer": "ipython3",
   "version": "3.6.6"
  }
 },
 "nbformat": 4,
 "nbformat_minor": 2
}
