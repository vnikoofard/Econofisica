{
 "cells": [
  {
   "cell_type": "markdown",
   "metadata": {},
   "source": [
    "# O metodo de Holt-Winter\n",
    "\n",
    "## Média Movel Simples\n",
    "\n",
    "Vamos começar essa discussão com a media movel simples (SMA, do inglês Simple Moving Average). A media movel simples é uma técnica de suavização de séries temporais que calcula a média de um número fixo de pontos de dados consecutivos. Por exemplo, se você tiver 12 meses de dados de vendas, poderá calcular as médias móveis de 3 meses, 4 meses, 5 meses, 6 meses, etc. A média móvel de 3 meses é a média dos últimos 3 meses. A média móvel de 4 meses é a média dos últimos 4 meses e assim por diante. \n",
    "\n",
    "<img src='https://media.geeksforgeeks.org/wp-content/uploads/20231123130202/ngjsdbgs.png'>\n",
    "\n"
   ]
  },
  {
   "cell_type": "code",
   "execution_count": 4,
   "metadata": {},
   "outputs": [
    {
     "name": "stdout",
     "output_type": "stream",
     "text": [
      "[2.0, 4.0, 6.33]\n"
     ]
    }
   ],
   "source": [
    "# Program to calculate moving average\n",
    "arr = [1, 2, 3, 7, 9]\n",
    "window_size = 3\n",
    "\n",
    "i = 0\n",
    "# Initialize an empty list to store moving averages\n",
    "moving_averages = []\n",
    "\n",
    "# Loop through the array to consider\n",
    "# every window of size 3\n",
    "while i < len(arr) - window_size + 1:\n",
    "\n",
    "\t# Store elements from i to i+window_size\n",
    "\t# in list to get the current window\n",
    "\twindow = arr[i : i + window_size]\n",
    "\n",
    "\t# Calculate the average of current window\n",
    "\twindow_average = round(sum(window) / window_size, 2)\n",
    "\t\n",
    "\t# Store the average of current\n",
    "\t# window in moving average list\n",
    "\tmoving_averages.append(window_average)\n",
    "\t\n",
    "\t# Shift window to right by one position\n",
    "\ti += 1\n",
    "\n",
    "print(moving_averages)\n"
   ]
  },
  {
   "cell_type": "markdown",
   "metadata": {},
   "source": [
    "A média móvel simples  tem ampla aplicação no mercado financeiro, especialmente na análise técnica, onde é usada para suavizar os preços de ativos ao longo de um período de tempo, facilitando a identificação de tendências. Um dos principais objetivos da média móvel é eliminar o \"ruído\" das flutuações diárias dos preços, permitindo que os analistas vejam mais claramente a direção geral dos movimentos do mercado.\n",
    "\n",
    "Na análise técnica, a SMA é frequentemente utilizada para identificar pontos de suporte e resistência, além de ajudar a determinar potenciais pontos de compra e venda de ativos. Ela é calculada somando os preços de fechamento de um ativo em um determinado número de dias e, em seguida, dividindo o total pelo número de dias. O resultado é uma linha suave que segue os movimentos do preço.\n",
    "\n",
    "Os traders utilizam a média móvel para identificar mudanças de tendência. Por exemplo, quando o preço de um ativo cruza acima de sua média móvel, isso pode ser interpretado como um sinal de alta (bullish), enquanto o cruzamento abaixo da média pode sinalizar uma tendência de baixa (bearish). Além disso, médias móveis de diferentes períodos podem ser combinadas, como na estratégia de cruzamento de médias móveis, onde, por exemplo, o cruzamento de uma SMA de curto prazo com uma de longo prazo pode ser visto como um indicativo de reversão de tendência.\n",
    "\n",
    "<img src='https://traderrr.com/wp-content/uploads/2020/06/the-sell-signal-when-sma-50-cross-over-sma-200-and-goes-down.jpg'  width=\"400\" height=\"300\">>\n",
    "\n",
    "\n",
    "Apesar de sua popularidade, a média móvel simples tem limitações, como a falta de sensibilidade às mudanças recentes nos preços, o que pode atrasar os sinais de compra ou venda em mercados voláteis. Por isso, é comum o uso de variações mais sofisticadas, como a média móvel exponencial (EMA), que dá mais peso aos preços mais recentes."
   ]
  },
  {
   "cell_type": "markdown",
   "metadata": {},
   "source": [
    "## Coding"
   ]
  },
  {
   "cell_type": "code",
   "execution_count": 2,
   "metadata": {},
   "outputs": [],
   "source": [
    "import pandas as pd\n",
    "import matplotlib.pyplot as plt\n",
    "import numpy as np\n",
    "import yfinance as yf"
   ]
  },
  {
   "cell_type": "code",
   "execution_count": 3,
   "metadata": {},
   "outputs": [],
   "source": [
    "goog = yf.download('GOOG', start='2010-01-01', end='2024-08-30')['Adj Close']"
   ]
  },
  {
   "cell_type": "code",
   "execution_count": null,
   "metadata": {},
   "outputs": [],
   "source": []
  }
 ],
 "metadata": {
  "kernelspec": {
   "display_name": "base",
   "language": "python",
   "name": "python3"
  },
  "language_info": {
   "codemirror_mode": {
    "name": "ipython",
    "version": 3
   },
   "file_extension": ".py",
   "mimetype": "text/x-python",
   "name": "python",
   "nbconvert_exporter": "python",
   "pygments_lexer": "ipython3",
   "version": "3.11.9"
  }
 },
 "nbformat": 4,
 "nbformat_minor": 2
}
