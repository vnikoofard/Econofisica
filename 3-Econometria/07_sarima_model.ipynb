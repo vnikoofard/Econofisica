{
 "cells": [
  {
   "cell_type": "markdown",
   "metadata": {},
   "source": [
    "# Modelo SARIMA"
   ]
  },
  {
   "cell_type": "markdown",
   "metadata": {},
   "source": [
    "## Introdução\n",
    "\n",
    "O modelo SARIMA (Seasonal Autoregressive Integrated Moving Average) é uma extensão do modelo ARIMA que inclui componentes sazonais. O modelo SARIMA é representado por SARIMA(p,d,q)(P,D,Q)m, onde p, d e q são os parâmetros do modelo ARIMA, P, D e Q são os parâmetros do modelo sazonal ARIMA e m é o número de períodos em cada temporada. Mas, como podemos achar o valor de $m$?\n",
    "\n",
    "- Assumindo que temos **um ciclo de um ano**\n",
    "\n",
    "|Data| Frequência $m$|\n",
    "|----|----------------|\n",
    "|Anual| 1|\n",
    "|Trimestral| 4|\n",
    "|Mensal| 12|\n",
    "|Semanal| 52|\n",
    "|Diário| 365|\n",
    "\n",
    "\n",
    "- Para dados diarios e sub-diários,\n",
    "<table>\n",
    "  <tr>\n",
    "    <td></td>\n",
    "    <td colspan=\"5\" align=\"center\">Frequencia m</td>\n",
    "  </tr>\n",
    "  <tr>\n",
    "    <th>Data</th>\n",
    "    <th>Minuto</th>\n",
    "    <th>Hora</th>\n",
    "    <th>Dia</th>\n",
    "    <th>Semana</th>\n",
    "    <th>Ano</th>\n",
    "  </tr>\n",
    "  <tr>\n",
    "    <td>Diário</td>\n",
    "    <td></td>\n",
    "    <td></td>\n",
    "    <td></td>\n",
    "    <td>7</td>\n",
    "    <td>365</td>\n",
    "  </tr>\n",
    "  <tr>\n",
    "    <td>Hora</td>\n",
    "    <td></td>\n",
    "    <td></td>\n",
    "    <td>24</td>\n",
    "    <td>168</td>\n",
    "    <td>8766</td>\n",
    "  </tr>\n",
    "  <tr>\n",
    "    <td>Minuto</td>\n",
    "    <td></td>\n",
    "    <td>60</td>\n",
    "    <td>1440</td>\n",
    "    <td>10080</td>\n",
    "    <td>525960</td>\n",
    "    \n",
    "  </tr>\n",
    "  <tr>\n",
    "    <td>Segundo</td>\n",
    "    <td>60</td>\n",
    "    <td>3600</td>\n",
    "    <td>86400</td>\n",
    "    <td>604800</td>\n",
    "    <td>31557600</td>\n",
    "  </tr>\n",
    "</table>\n",
    "\n",
    "\n"
   ]
  },
  {
   "cell_type": "markdown",
   "metadata": {},
   "source": [
    "Por exemplo, quando temos dados mensais de varios anos e a sazonalidade é anual (12 meses), a frequencia $m$ é 12. Se a sazonalidade é trimestral, a frequencia $m$ é 4. Se a sazonalidade é semanal, a frequencia $m$ é 52. Se a sazonalidade é diária, a frequencia $m$ é 365.\n",
    "\n",
    "### Entendendo $P$, $D$ e $Q$\n",
    "\n",
    "- $P$ é a ordem do modelo autorregressivo sazonal. Por exemplo, se a sazonalidade é anual e o modelo autorregressivo é 2, então $P=2$. Esse significa $y_{t-12}$ e $y_{t-24}$ são usados para prever $y_t$.\n",
    "- $D$ é a ordem de diferenciação sazonal. Por exemplo, se a sazonalidade é anual e a série temporal é diferenciada uma vez para torná-la estacionária, então $D=1$. Isso significa que a diferença entre $y_{t-12}$ e $y_t$ é estacionária.\n",
    "- $Q$ é a ordem do modelo de média móvel sazonal. Por exemplo, se a sazonalidade é anual e o modelo de média móvel é 2, então $Q=2$. Esse significa que temos que incluir, por exemplo, $\\theta_{12} \\epsilon_{t-12}$ e $\\theta_{24} \\epsilon_{t-24}$ para prever $y_t$.\n",
    "\n"
   ]
  },
  {
   "cell_type": "code",
   "execution_count": null,
   "metadata": {},
   "outputs": [],
   "source": []
  }
 ],
 "metadata": {
  "language_info": {
   "name": "python"
  }
 },
 "nbformat": 4,
 "nbformat_minor": 2
}
